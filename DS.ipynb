{
 "cells": [
  {
   "cell_type": "markdown",
   "id": "fcde1100-a416-4806-882d-44963686135e",
   "metadata": {},
   "source": [
    "# PYTHON WITH DATASCIENCE MARKETING DATA Project #"
   ]
  },
  {
   "cell_type": "markdown",
   "id": "50efcf0e-2b15-4d3e-a400-ae2b0bdd8841",
   "metadata": {
    "tags": []
   },
   "source": [
    "## - IMPORTING REQUIRED LIBRARIES"
   ]
  },
  {
   "cell_type": "code",
   "execution_count": 114,
   "id": "3362aef1-4914-435e-9bc6-6a07dea42afc",
   "metadata": {
    "tags": []
   },
   "outputs": [],
   "source": [
    "import pandas as pd\n",
    "import datetime as dt\n",
    "import matplotlib.pyplot as plt\n",
    "from sklearn.preprocessing import OrdinalEncoder\n",
    "from sklearn.preprocessing import OneHotEncoder\n",
    "import seaborn as sns\n",
    "import scipy.stats as st\n",
    "from scipy.stats import ttest_ind"
   ]
  },
  {
   "cell_type": "markdown",
   "id": "9ddfafb3-5bec-4998-9133-30de185bdc9b",
   "metadata": {
    "tags": []
   },
   "source": [
    "## - Loading and analysing data"
   ]
  },
  {
   "cell_type": "code",
   "execution_count": 115,
   "id": "448036f0-c65a-4640-8e7c-6dec945d60dc",
   "metadata": {
    "tags": []
   },
   "outputs": [
    {
     "name": "stdout",
     "output_type": "stream",
     "text": [
      "Displaying Column details of DataFrame:\n",
      "\n",
      "<class 'pandas.core.frame.DataFrame'>\n",
      "RangeIndex: 2240 entries, 0 to 2239\n",
      "Data columns (total 28 columns):\n",
      " #   Column               Non-Null Count  Dtype \n",
      "---  ------               --------------  ----- \n",
      " 0   ID                   2240 non-null   int64 \n",
      " 1   Year_Birth           2240 non-null   int64 \n",
      " 2   Education            2240 non-null   object\n",
      " 3   Marital_Status       2240 non-null   object\n",
      " 4    Income              2216 non-null   object\n",
      " 5   Kidhome              2240 non-null   int64 \n",
      " 6   Teenhome             2240 non-null   int64 \n",
      " 7   Dt_Customer          2240 non-null   object\n",
      " 8   Recency              2240 non-null   int64 \n",
      " 9   MntWines             2240 non-null   int64 \n",
      " 10  MntFruits            2240 non-null   int64 \n",
      " 11  MntMeatProducts      2240 non-null   int64 \n",
      " 12  MntFishProducts      2240 non-null   int64 \n",
      " 13  MntSweetProducts     2240 non-null   int64 \n",
      " 14  MntGoldProds         2240 non-null   int64 \n",
      " 15  NumDealsPurchases    2240 non-null   int64 \n",
      " 16  NumWebPurchases      2240 non-null   int64 \n",
      " 17  NumCatalogPurchases  2240 non-null   int64 \n",
      " 18  NumStorePurchases    2240 non-null   int64 \n",
      " 19  NumWebVisitsMonth    2240 non-null   int64 \n",
      " 20  AcceptedCmp3         2240 non-null   int64 \n",
      " 21  AcceptedCmp4         2240 non-null   int64 \n",
      " 22  AcceptedCmp5         2240 non-null   int64 \n",
      " 23  AcceptedCmp1         2240 non-null   int64 \n",
      " 24  AcceptedCmp2         2240 non-null   int64 \n",
      " 25  Response             2240 non-null   int64 \n",
      " 26  Complain             2240 non-null   int64 \n",
      " 27  Country              2240 non-null   object\n",
      "dtypes: int64(23), object(5)\n",
      "memory usage: 490.1+ KB\n",
      "\n",
      "A top view of DataFrame:\n",
      "\n"
     ]
    },
    {
     "data": {
      "text/html": [
       "<div>\n",
       "<style scoped>\n",
       "    .dataframe tbody tr th:only-of-type {\n",
       "        vertical-align: middle;\n",
       "    }\n",
       "\n",
       "    .dataframe tbody tr th {\n",
       "        vertical-align: top;\n",
       "    }\n",
       "\n",
       "    .dataframe thead th {\n",
       "        text-align: right;\n",
       "    }\n",
       "</style>\n",
       "<table border=\"1\" class=\"dataframe\">\n",
       "  <thead>\n",
       "    <tr style=\"text-align: right;\">\n",
       "      <th></th>\n",
       "      <th>ID</th>\n",
       "      <th>Year_Birth</th>\n",
       "      <th>Education</th>\n",
       "      <th>Marital_Status</th>\n",
       "      <th>Income</th>\n",
       "      <th>Kidhome</th>\n",
       "      <th>Teenhome</th>\n",
       "      <th>Dt_Customer</th>\n",
       "      <th>Recency</th>\n",
       "      <th>MntWines</th>\n",
       "      <th>...</th>\n",
       "      <th>NumStorePurchases</th>\n",
       "      <th>NumWebVisitsMonth</th>\n",
       "      <th>AcceptedCmp3</th>\n",
       "      <th>AcceptedCmp4</th>\n",
       "      <th>AcceptedCmp5</th>\n",
       "      <th>AcceptedCmp1</th>\n",
       "      <th>AcceptedCmp2</th>\n",
       "      <th>Response</th>\n",
       "      <th>Complain</th>\n",
       "      <th>Country</th>\n",
       "    </tr>\n",
       "  </thead>\n",
       "  <tbody>\n",
       "    <tr>\n",
       "      <th>0</th>\n",
       "      <td>1826</td>\n",
       "      <td>1970</td>\n",
       "      <td>Graduation</td>\n",
       "      <td>Divorced</td>\n",
       "      <td>$84,835.00</td>\n",
       "      <td>0</td>\n",
       "      <td>0</td>\n",
       "      <td>6/16/14</td>\n",
       "      <td>0</td>\n",
       "      <td>189</td>\n",
       "      <td>...</td>\n",
       "      <td>6</td>\n",
       "      <td>1</td>\n",
       "      <td>0</td>\n",
       "      <td>0</td>\n",
       "      <td>0</td>\n",
       "      <td>0</td>\n",
       "      <td>0</td>\n",
       "      <td>1</td>\n",
       "      <td>0</td>\n",
       "      <td>SP</td>\n",
       "    </tr>\n",
       "    <tr>\n",
       "      <th>1</th>\n",
       "      <td>1</td>\n",
       "      <td>1961</td>\n",
       "      <td>Graduation</td>\n",
       "      <td>Single</td>\n",
       "      <td>$57,091.00</td>\n",
       "      <td>0</td>\n",
       "      <td>0</td>\n",
       "      <td>6/15/14</td>\n",
       "      <td>0</td>\n",
       "      <td>464</td>\n",
       "      <td>...</td>\n",
       "      <td>7</td>\n",
       "      <td>5</td>\n",
       "      <td>0</td>\n",
       "      <td>0</td>\n",
       "      <td>0</td>\n",
       "      <td>0</td>\n",
       "      <td>1</td>\n",
       "      <td>1</td>\n",
       "      <td>0</td>\n",
       "      <td>CA</td>\n",
       "    </tr>\n",
       "    <tr>\n",
       "      <th>2</th>\n",
       "      <td>10476</td>\n",
       "      <td>1958</td>\n",
       "      <td>Graduation</td>\n",
       "      <td>Married</td>\n",
       "      <td>$67,267.00</td>\n",
       "      <td>0</td>\n",
       "      <td>1</td>\n",
       "      <td>5/13/14</td>\n",
       "      <td>0</td>\n",
       "      <td>134</td>\n",
       "      <td>...</td>\n",
       "      <td>5</td>\n",
       "      <td>2</td>\n",
       "      <td>0</td>\n",
       "      <td>0</td>\n",
       "      <td>0</td>\n",
       "      <td>0</td>\n",
       "      <td>0</td>\n",
       "      <td>0</td>\n",
       "      <td>0</td>\n",
       "      <td>US</td>\n",
       "    </tr>\n",
       "    <tr>\n",
       "      <th>3</th>\n",
       "      <td>1386</td>\n",
       "      <td>1967</td>\n",
       "      <td>Graduation</td>\n",
       "      <td>Together</td>\n",
       "      <td>$32,474.00</td>\n",
       "      <td>1</td>\n",
       "      <td>1</td>\n",
       "      <td>5/11/14</td>\n",
       "      <td>0</td>\n",
       "      <td>10</td>\n",
       "      <td>...</td>\n",
       "      <td>2</td>\n",
       "      <td>7</td>\n",
       "      <td>0</td>\n",
       "      <td>0</td>\n",
       "      <td>0</td>\n",
       "      <td>0</td>\n",
       "      <td>0</td>\n",
       "      <td>0</td>\n",
       "      <td>0</td>\n",
       "      <td>AUS</td>\n",
       "    </tr>\n",
       "    <tr>\n",
       "      <th>4</th>\n",
       "      <td>5371</td>\n",
       "      <td>1989</td>\n",
       "      <td>Graduation</td>\n",
       "      <td>Single</td>\n",
       "      <td>$21,474.00</td>\n",
       "      <td>1</td>\n",
       "      <td>0</td>\n",
       "      <td>4/8/14</td>\n",
       "      <td>0</td>\n",
       "      <td>6</td>\n",
       "      <td>...</td>\n",
       "      <td>2</td>\n",
       "      <td>7</td>\n",
       "      <td>1</td>\n",
       "      <td>0</td>\n",
       "      <td>0</td>\n",
       "      <td>0</td>\n",
       "      <td>0</td>\n",
       "      <td>1</td>\n",
       "      <td>0</td>\n",
       "      <td>SP</td>\n",
       "    </tr>\n",
       "  </tbody>\n",
       "</table>\n",
       "<p>5 rows × 28 columns</p>\n",
       "</div>"
      ],
      "text/plain": [
       "      ID  Year_Birth   Education Marital_Status      Income   Kidhome  \\\n",
       "0   1826        1970  Graduation       Divorced  $84,835.00         0   \n",
       "1      1        1961  Graduation         Single  $57,091.00         0   \n",
       "2  10476        1958  Graduation        Married  $67,267.00         0   \n",
       "3   1386        1967  Graduation       Together  $32,474.00         1   \n",
       "4   5371        1989  Graduation         Single  $21,474.00         1   \n",
       "\n",
       "   Teenhome Dt_Customer  Recency  MntWines  ...  NumStorePurchases  \\\n",
       "0         0     6/16/14        0       189  ...                  6   \n",
       "1         0     6/15/14        0       464  ...                  7   \n",
       "2         1     5/13/14        0       134  ...                  5   \n",
       "3         1     5/11/14        0        10  ...                  2   \n",
       "4         0      4/8/14        0         6  ...                  2   \n",
       "\n",
       "   NumWebVisitsMonth  AcceptedCmp3  AcceptedCmp4  AcceptedCmp5  AcceptedCmp1  \\\n",
       "0                  1             0             0             0             0   \n",
       "1                  5             0             0             0             0   \n",
       "2                  2             0             0             0             0   \n",
       "3                  7             0             0             0             0   \n",
       "4                  7             1             0             0             0   \n",
       "\n",
       "   AcceptedCmp2  Response  Complain  Country  \n",
       "0             0         1         0       SP  \n",
       "1             1         1         0       CA  \n",
       "2             0         0         0       US  \n",
       "3             0         0         0      AUS  \n",
       "4             0         1         0       SP  \n",
       "\n",
       "[5 rows x 28 columns]"
      ]
     },
     "execution_count": 115,
     "metadata": {},
     "output_type": "execute_result"
    }
   ],
   "source": [
    "mkt_data = pd.read_csv('marketing_data.csv')\n",
    "print(\"Displaying Column details of DataFrame:\")\n",
    "print()\n",
    "mkt_data.info()\n",
    "print()\n",
    "print(\"A top view of DataFrame:\")\n",
    "print()\n",
    "mkt_data.head(5)"
   ]
  },
  {
   "cell_type": "markdown",
   "id": "e5de89f8-14f3-4ce8-a15f-817c2bab74a7",
   "metadata": {},
   "source": [
    "## (A) Fixing format of Dt_customer ##"
   ]
  },
  {
   "cell_type": "markdown",
   "id": "f73059fd-c7a5-4069-9d01-07de2e5547f6",
   "metadata": {},
   "source": [
    "### 1. Identifying details of Null values"
   ]
  },
  {
   "cell_type": "code",
   "execution_count": 116,
   "id": "06468407-e7a7-4157-a4f1-f958bdc6695d",
   "metadata": {
    "tags": []
   },
   "outputs": [
    {
     "name": "stdout",
     "output_type": "stream",
     "text": [
      "Null value count of column Dt_customer:  0\n"
     ]
    }
   ],
   "source": [
    "print('Null value count of column Dt_customer: ', mkt_data.Dt_Customer.isnull().sum())"
   ]
  },
  {
   "cell_type": "markdown",
   "id": "3f3385cf-fa32-46d8-ab6f-60232a653e3d",
   "metadata": {},
   "source": [
    "### 2. Formatting date to a consistent format and displaying recieved fields"
   ]
  },
  {
   "cell_type": "code",
   "execution_count": 117,
   "id": "527d76e3-a7e7-48bf-b86f-4b28d18607a5",
   "metadata": {
    "tags": []
   },
   "outputs": [
    {
     "name": "stderr",
     "output_type": "stream",
     "text": [
      "C:\\Users\\Gangwar's\\AppData\\Local\\Temp\\ipykernel_13540\\3248703634.py:1: UserWarning: Could not infer format, so each element will be parsed individually, falling back to `dateutil`. To ensure parsing is consistent and as-expected, please specify a format.\n",
      "  mkt_data['Dt_Customer'] = pd.to_datetime(mkt_data['Dt_Customer'])\n"
     ]
    }
   ],
   "source": [
    "mkt_data['Dt_Customer'] = pd.to_datetime(mkt_data['Dt_Customer'])"
   ]
  },
  {
   "cell_type": "code",
   "execution_count": 118,
   "id": "f8e96f4f-ff65-42ec-aea7-680aa1872682",
   "metadata": {
    "tags": []
   },
   "outputs": [
    {
     "data": {
      "text/html": [
       "<div>\n",
       "<style scoped>\n",
       "    .dataframe tbody tr th:only-of-type {\n",
       "        vertical-align: middle;\n",
       "    }\n",
       "\n",
       "    .dataframe tbody tr th {\n",
       "        vertical-align: top;\n",
       "    }\n",
       "\n",
       "    .dataframe thead th {\n",
       "        text-align: right;\n",
       "    }\n",
       "</style>\n",
       "<table border=\"1\" class=\"dataframe\">\n",
       "  <thead>\n",
       "    <tr style=\"text-align: right;\">\n",
       "      <th></th>\n",
       "      <th>ID</th>\n",
       "      <th>Year_Birth</th>\n",
       "      <th>Education</th>\n",
       "      <th>Marital_Status</th>\n",
       "      <th>Income</th>\n",
       "      <th>Kidhome</th>\n",
       "      <th>Teenhome</th>\n",
       "      <th>Dt_Customer</th>\n",
       "      <th>Recency</th>\n",
       "      <th>MntWines</th>\n",
       "      <th>...</th>\n",
       "      <th>NumStorePurchases</th>\n",
       "      <th>NumWebVisitsMonth</th>\n",
       "      <th>AcceptedCmp3</th>\n",
       "      <th>AcceptedCmp4</th>\n",
       "      <th>AcceptedCmp5</th>\n",
       "      <th>AcceptedCmp1</th>\n",
       "      <th>AcceptedCmp2</th>\n",
       "      <th>Response</th>\n",
       "      <th>Complain</th>\n",
       "      <th>Country</th>\n",
       "    </tr>\n",
       "  </thead>\n",
       "  <tbody>\n",
       "    <tr>\n",
       "      <th>0</th>\n",
       "      <td>1826</td>\n",
       "      <td>1970</td>\n",
       "      <td>Graduation</td>\n",
       "      <td>Divorced</td>\n",
       "      <td>$84,835.00</td>\n",
       "      <td>0</td>\n",
       "      <td>0</td>\n",
       "      <td>2014-06-16</td>\n",
       "      <td>0</td>\n",
       "      <td>189</td>\n",
       "      <td>...</td>\n",
       "      <td>6</td>\n",
       "      <td>1</td>\n",
       "      <td>0</td>\n",
       "      <td>0</td>\n",
       "      <td>0</td>\n",
       "      <td>0</td>\n",
       "      <td>0</td>\n",
       "      <td>1</td>\n",
       "      <td>0</td>\n",
       "      <td>SP</td>\n",
       "    </tr>\n",
       "    <tr>\n",
       "      <th>1</th>\n",
       "      <td>1</td>\n",
       "      <td>1961</td>\n",
       "      <td>Graduation</td>\n",
       "      <td>Single</td>\n",
       "      <td>$57,091.00</td>\n",
       "      <td>0</td>\n",
       "      <td>0</td>\n",
       "      <td>2014-06-15</td>\n",
       "      <td>0</td>\n",
       "      <td>464</td>\n",
       "      <td>...</td>\n",
       "      <td>7</td>\n",
       "      <td>5</td>\n",
       "      <td>0</td>\n",
       "      <td>0</td>\n",
       "      <td>0</td>\n",
       "      <td>0</td>\n",
       "      <td>1</td>\n",
       "      <td>1</td>\n",
       "      <td>0</td>\n",
       "      <td>CA</td>\n",
       "    </tr>\n",
       "    <tr>\n",
       "      <th>2</th>\n",
       "      <td>10476</td>\n",
       "      <td>1958</td>\n",
       "      <td>Graduation</td>\n",
       "      <td>Married</td>\n",
       "      <td>$67,267.00</td>\n",
       "      <td>0</td>\n",
       "      <td>1</td>\n",
       "      <td>2014-05-13</td>\n",
       "      <td>0</td>\n",
       "      <td>134</td>\n",
       "      <td>...</td>\n",
       "      <td>5</td>\n",
       "      <td>2</td>\n",
       "      <td>0</td>\n",
       "      <td>0</td>\n",
       "      <td>0</td>\n",
       "      <td>0</td>\n",
       "      <td>0</td>\n",
       "      <td>0</td>\n",
       "      <td>0</td>\n",
       "      <td>US</td>\n",
       "    </tr>\n",
       "    <tr>\n",
       "      <th>3</th>\n",
       "      <td>1386</td>\n",
       "      <td>1967</td>\n",
       "      <td>Graduation</td>\n",
       "      <td>Together</td>\n",
       "      <td>$32,474.00</td>\n",
       "      <td>1</td>\n",
       "      <td>1</td>\n",
       "      <td>2014-05-11</td>\n",
       "      <td>0</td>\n",
       "      <td>10</td>\n",
       "      <td>...</td>\n",
       "      <td>2</td>\n",
       "      <td>7</td>\n",
       "      <td>0</td>\n",
       "      <td>0</td>\n",
       "      <td>0</td>\n",
       "      <td>0</td>\n",
       "      <td>0</td>\n",
       "      <td>0</td>\n",
       "      <td>0</td>\n",
       "      <td>AUS</td>\n",
       "    </tr>\n",
       "    <tr>\n",
       "      <th>4</th>\n",
       "      <td>5371</td>\n",
       "      <td>1989</td>\n",
       "      <td>Graduation</td>\n",
       "      <td>Single</td>\n",
       "      <td>$21,474.00</td>\n",
       "      <td>1</td>\n",
       "      <td>0</td>\n",
       "      <td>2014-04-08</td>\n",
       "      <td>0</td>\n",
       "      <td>6</td>\n",
       "      <td>...</td>\n",
       "      <td>2</td>\n",
       "      <td>7</td>\n",
       "      <td>1</td>\n",
       "      <td>0</td>\n",
       "      <td>0</td>\n",
       "      <td>0</td>\n",
       "      <td>0</td>\n",
       "      <td>1</td>\n",
       "      <td>0</td>\n",
       "      <td>SP</td>\n",
       "    </tr>\n",
       "  </tbody>\n",
       "</table>\n",
       "<p>5 rows × 28 columns</p>\n",
       "</div>"
      ],
      "text/plain": [
       "      ID  Year_Birth   Education Marital_Status      Income   Kidhome  \\\n",
       "0   1826        1970  Graduation       Divorced  $84,835.00         0   \n",
       "1      1        1961  Graduation         Single  $57,091.00         0   \n",
       "2  10476        1958  Graduation        Married  $67,267.00         0   \n",
       "3   1386        1967  Graduation       Together  $32,474.00         1   \n",
       "4   5371        1989  Graduation         Single  $21,474.00         1   \n",
       "\n",
       "   Teenhome Dt_Customer  Recency  MntWines  ...  NumStorePurchases  \\\n",
       "0         0  2014-06-16        0       189  ...                  6   \n",
       "1         0  2014-06-15        0       464  ...                  7   \n",
       "2         1  2014-05-13        0       134  ...                  5   \n",
       "3         1  2014-05-11        0        10  ...                  2   \n",
       "4         0  2014-04-08        0         6  ...                  2   \n",
       "\n",
       "   NumWebVisitsMonth  AcceptedCmp3  AcceptedCmp4  AcceptedCmp5  AcceptedCmp1  \\\n",
       "0                  1             0             0             0             0   \n",
       "1                  5             0             0             0             0   \n",
       "2                  2             0             0             0             0   \n",
       "3                  7             0             0             0             0   \n",
       "4                  7             1             0             0             0   \n",
       "\n",
       "   AcceptedCmp2  Response  Complain  Country  \n",
       "0             0         1         0       SP  \n",
       "1             1         1         0       CA  \n",
       "2             0         0         0       US  \n",
       "3             0         0         0      AUS  \n",
       "4             0         1         0       SP  \n",
       "\n",
       "[5 rows x 28 columns]"
      ]
     },
     "execution_count": 118,
     "metadata": {},
     "output_type": "execute_result"
    }
   ],
   "source": [
    "mkt_data.head(5)"
   ]
  },
  {
   "cell_type": "markdown",
   "id": "2edfff73-e375-48b4-bd18-b3a091ff1e1d",
   "metadata": {},
   "source": [
    "## (B) Filling missing values in Income "
   ]
  },
  {
   "cell_type": "markdown",
   "id": "6e82c20e-3b82-47ab-9ea0-47575b38c22e",
   "metadata": {
    "tags": []
   },
   "source": [
    "### 1. Updating category of MaritalStatus ###"
   ]
  },
  {
   "cell_type": "code",
   "execution_count": 119,
   "id": "2fdd6d89-c563-47f8-9bcf-cbe8dfb60173",
   "metadata": {
    "tags": []
   },
   "outputs": [
    {
     "name": "stdout",
     "output_type": "stream",
     "text": [
      "Count of Null values in Marital_Status Column:  0\n"
     ]
    }
   ],
   "source": [
    "# Identifying presence of null values\n",
    "\n",
    "print(\"Count of Null values in Marital_Status Column: \", mkt_data['Marital_Status'].isnull().sum())"
   ]
  },
  {
   "cell_type": "code",
   "execution_count": 120,
   "id": "dce32280-ed0c-4341-9c7b-35c24fec36ca",
   "metadata": {
    "tags": []
   },
   "outputs": [],
   "source": [
    "# Creating a category (Sgl = single, Cpl = Couple) to segregate different Martial Status:\n",
    "# Divorced -> Sgl\n",
    "# Single -> Sgl\n",
    "# Married -> Cpl\n",
    "# Together -> Cpl\n",
    "# Widow -> Sgl\n",
    "# YOLO -> Cpl\n",
    "# Alone -> Sgl\n",
    "\n",
    "\n",
    "def marital_cat(Status):\n",
    "    if Status == 'Divorced':\n",
    "        return 'Sgl'\n",
    "    elif Status == 'Single':\n",
    "        return 'Sgl'\n",
    "    elif Status == 'Married':\n",
    "        return 'Cpl'\n",
    "    elif Status == 'Together':\n",
    "        return 'Cpl'\n",
    "    elif Status == 'Widow':\n",
    "        return 'Sgl'\n",
    "    elif Status == 'YOLO':\n",
    "        return 'Cpl'\n",
    "    elif Status == 'Alone':\n",
    "        return 'Sgl'\n",
    "    else:\n",
    "        return 'Sgl'\n",
    "    \n",
    "mkt_data.insert(loc = mkt_data.columns.get_loc('Marital_Status'), column = 'Mcat', value = mkt_data.Marital_Status.apply(marital_cat))\n",
    "#mkt_data.drop('Mcat', axis = 1, inplace = True)"
   ]
  },
  {
   "cell_type": "code",
   "execution_count": 121,
   "id": "b1a8896a-a4e4-4078-8067-941f6fc86fad",
   "metadata": {
    "tags": []
   },
   "outputs": [
    {
     "data": {
      "text/html": [
       "<div>\n",
       "<style scoped>\n",
       "    .dataframe tbody tr th:only-of-type {\n",
       "        vertical-align: middle;\n",
       "    }\n",
       "\n",
       "    .dataframe tbody tr th {\n",
       "        vertical-align: top;\n",
       "    }\n",
       "\n",
       "    .dataframe thead th {\n",
       "        text-align: right;\n",
       "    }\n",
       "</style>\n",
       "<table border=\"1\" class=\"dataframe\">\n",
       "  <thead>\n",
       "    <tr style=\"text-align: right;\">\n",
       "      <th></th>\n",
       "      <th>ID</th>\n",
       "      <th>Year_Birth</th>\n",
       "      <th>Education</th>\n",
       "      <th>Mcat</th>\n",
       "      <th>Marital_Status</th>\n",
       "      <th>Income</th>\n",
       "      <th>Kidhome</th>\n",
       "      <th>Teenhome</th>\n",
       "      <th>Dt_Customer</th>\n",
       "      <th>Recency</th>\n",
       "      <th>...</th>\n",
       "      <th>NumStorePurchases</th>\n",
       "      <th>NumWebVisitsMonth</th>\n",
       "      <th>AcceptedCmp3</th>\n",
       "      <th>AcceptedCmp4</th>\n",
       "      <th>AcceptedCmp5</th>\n",
       "      <th>AcceptedCmp1</th>\n",
       "      <th>AcceptedCmp2</th>\n",
       "      <th>Response</th>\n",
       "      <th>Complain</th>\n",
       "      <th>Country</th>\n",
       "    </tr>\n",
       "  </thead>\n",
       "  <tbody>\n",
       "    <tr>\n",
       "      <th>0</th>\n",
       "      <td>1826</td>\n",
       "      <td>1970</td>\n",
       "      <td>Graduation</td>\n",
       "      <td>Sgl</td>\n",
       "      <td>Divorced</td>\n",
       "      <td>$84,835.00</td>\n",
       "      <td>0</td>\n",
       "      <td>0</td>\n",
       "      <td>2014-06-16</td>\n",
       "      <td>0</td>\n",
       "      <td>...</td>\n",
       "      <td>6</td>\n",
       "      <td>1</td>\n",
       "      <td>0</td>\n",
       "      <td>0</td>\n",
       "      <td>0</td>\n",
       "      <td>0</td>\n",
       "      <td>0</td>\n",
       "      <td>1</td>\n",
       "      <td>0</td>\n",
       "      <td>SP</td>\n",
       "    </tr>\n",
       "    <tr>\n",
       "      <th>1</th>\n",
       "      <td>1</td>\n",
       "      <td>1961</td>\n",
       "      <td>Graduation</td>\n",
       "      <td>Sgl</td>\n",
       "      <td>Single</td>\n",
       "      <td>$57,091.00</td>\n",
       "      <td>0</td>\n",
       "      <td>0</td>\n",
       "      <td>2014-06-15</td>\n",
       "      <td>0</td>\n",
       "      <td>...</td>\n",
       "      <td>7</td>\n",
       "      <td>5</td>\n",
       "      <td>0</td>\n",
       "      <td>0</td>\n",
       "      <td>0</td>\n",
       "      <td>0</td>\n",
       "      <td>1</td>\n",
       "      <td>1</td>\n",
       "      <td>0</td>\n",
       "      <td>CA</td>\n",
       "    </tr>\n",
       "    <tr>\n",
       "      <th>2</th>\n",
       "      <td>10476</td>\n",
       "      <td>1958</td>\n",
       "      <td>Graduation</td>\n",
       "      <td>Cpl</td>\n",
       "      <td>Married</td>\n",
       "      <td>$67,267.00</td>\n",
       "      <td>0</td>\n",
       "      <td>1</td>\n",
       "      <td>2014-05-13</td>\n",
       "      <td>0</td>\n",
       "      <td>...</td>\n",
       "      <td>5</td>\n",
       "      <td>2</td>\n",
       "      <td>0</td>\n",
       "      <td>0</td>\n",
       "      <td>0</td>\n",
       "      <td>0</td>\n",
       "      <td>0</td>\n",
       "      <td>0</td>\n",
       "      <td>0</td>\n",
       "      <td>US</td>\n",
       "    </tr>\n",
       "    <tr>\n",
       "      <th>3</th>\n",
       "      <td>1386</td>\n",
       "      <td>1967</td>\n",
       "      <td>Graduation</td>\n",
       "      <td>Cpl</td>\n",
       "      <td>Together</td>\n",
       "      <td>$32,474.00</td>\n",
       "      <td>1</td>\n",
       "      <td>1</td>\n",
       "      <td>2014-05-11</td>\n",
       "      <td>0</td>\n",
       "      <td>...</td>\n",
       "      <td>2</td>\n",
       "      <td>7</td>\n",
       "      <td>0</td>\n",
       "      <td>0</td>\n",
       "      <td>0</td>\n",
       "      <td>0</td>\n",
       "      <td>0</td>\n",
       "      <td>0</td>\n",
       "      <td>0</td>\n",
       "      <td>AUS</td>\n",
       "    </tr>\n",
       "    <tr>\n",
       "      <th>4</th>\n",
       "      <td>5371</td>\n",
       "      <td>1989</td>\n",
       "      <td>Graduation</td>\n",
       "      <td>Sgl</td>\n",
       "      <td>Single</td>\n",
       "      <td>$21,474.00</td>\n",
       "      <td>1</td>\n",
       "      <td>0</td>\n",
       "      <td>2014-04-08</td>\n",
       "      <td>0</td>\n",
       "      <td>...</td>\n",
       "      <td>2</td>\n",
       "      <td>7</td>\n",
       "      <td>1</td>\n",
       "      <td>0</td>\n",
       "      <td>0</td>\n",
       "      <td>0</td>\n",
       "      <td>0</td>\n",
       "      <td>1</td>\n",
       "      <td>0</td>\n",
       "      <td>SP</td>\n",
       "    </tr>\n",
       "  </tbody>\n",
       "</table>\n",
       "<p>5 rows × 29 columns</p>\n",
       "</div>"
      ],
      "text/plain": [
       "      ID  Year_Birth   Education Mcat Marital_Status      Income   Kidhome  \\\n",
       "0   1826        1970  Graduation  Sgl       Divorced  $84,835.00         0   \n",
       "1      1        1961  Graduation  Sgl         Single  $57,091.00         0   \n",
       "2  10476        1958  Graduation  Cpl        Married  $67,267.00         0   \n",
       "3   1386        1967  Graduation  Cpl       Together  $32,474.00         1   \n",
       "4   5371        1989  Graduation  Sgl         Single  $21,474.00         1   \n",
       "\n",
       "   Teenhome Dt_Customer  Recency  ...  NumStorePurchases  NumWebVisitsMonth  \\\n",
       "0         0  2014-06-16        0  ...                  6                  1   \n",
       "1         0  2014-06-15        0  ...                  7                  5   \n",
       "2         1  2014-05-13        0  ...                  5                  2   \n",
       "3         1  2014-05-11        0  ...                  2                  7   \n",
       "4         0  2014-04-08        0  ...                  2                  7   \n",
       "\n",
       "   AcceptedCmp3  AcceptedCmp4  AcceptedCmp5  AcceptedCmp1  AcceptedCmp2  \\\n",
       "0             0             0             0             0             0   \n",
       "1             0             0             0             0             1   \n",
       "2             0             0             0             0             0   \n",
       "3             0             0             0             0             0   \n",
       "4             1             0             0             0             0   \n",
       "\n",
       "   Response  Complain  Country  \n",
       "0         1         0       SP  \n",
       "1         1         0       CA  \n",
       "2         0         0       US  \n",
       "3         0         0      AUS  \n",
       "4         1         0       SP  \n",
       "\n",
       "[5 rows x 29 columns]"
      ]
     },
     "execution_count": 121,
     "metadata": {},
     "output_type": "execute_result"
    }
   ],
   "source": [
    "# Printing Newly added category\n",
    "mkt_data.head(5)"
   ]
  },
  {
   "cell_type": "markdown",
   "id": "8d2fda64-dc99-445b-957f-5b409f233830",
   "metadata": {
    "tags": []
   },
   "source": [
    "### 2. Performing renaming of Income column and converting dollars to base numbers ###"
   ]
  },
  {
   "cell_type": "code",
   "execution_count": 122,
   "id": "440fbbca-78e9-4b96-bac0-aac33fafe1aa",
   "metadata": {},
   "outputs": [
    {
     "name": "stdout",
     "output_type": "stream",
     "text": [
      "Unique values of Education:  ['Graduation' 'PhD' '2n Cycle' 'Master' 'Basic']\n"
     ]
    }
   ],
   "source": [
    "print(\"Unique values of Education: \", mkt_data.Education.unique())"
   ]
  },
  {
   "cell_type": "code",
   "execution_count": 123,
   "id": "4e2d7ae8-7f09-4668-8b4d-d47dd93159b5",
   "metadata": {
    "tags": []
   },
   "outputs": [
    {
     "name": "stdout",
     "output_type": "stream",
     "text": [
      "Count of Null values in Income Column:  24\n"
     ]
    }
   ],
   "source": [
    "print(\"Count of Null values in Income Column: \", mkt_data[' Income '].isnull().sum())"
   ]
  },
  {
   "cell_type": "code",
   "execution_count": 124,
   "id": "15a76393-02dc-4892-84df-6a10455c5835",
   "metadata": {
    "tags": []
   },
   "outputs": [],
   "source": [
    "# Renaming column to replace space in names\n",
    "mkt_data.rename(columns={' Income ': 'Income'}, inplace=True)"
   ]
  },
  {
   "cell_type": "code",
   "execution_count": 64,
   "id": "620bd855-f920-4575-bd47-d7b59e61b160",
   "metadata": {
    "tags": []
   },
   "outputs": [],
   "source": [
    "# mkt_data.columns"
   ]
  },
  {
   "cell_type": "code",
   "execution_count": 125,
   "id": "c8af2d4b-ed57-4294-b2a7-b07dccf4c15e",
   "metadata": {
    "tags": []
   },
   "outputs": [],
   "source": [
    "# Converting dollar formatted values into numbers\n",
    "\n",
    "def doltonum (incomeval):\n",
    "    #if incomeval != incomeval\n",
    "        val = str(incomeval)\n",
    "        plain_number = val.replace('$', '').replace(',', '')\n",
    "        return float(plain_number)\n",
    "\n",
    "# Applying the function to convert Dollar value to Number\n",
    "mkt_data['Income'] = mkt_data['Income'].apply(doltonum)"
   ]
  },
  {
   "cell_type": "code",
   "execution_count": 126,
   "id": "76d07526-c7d5-4571-830f-d961789f03d7",
   "metadata": {
    "tags": []
   },
   "outputs": [
    {
     "data": {
      "text/html": [
       "<div>\n",
       "<style scoped>\n",
       "    .dataframe tbody tr th:only-of-type {\n",
       "        vertical-align: middle;\n",
       "    }\n",
       "\n",
       "    .dataframe tbody tr th {\n",
       "        vertical-align: top;\n",
       "    }\n",
       "\n",
       "    .dataframe thead th {\n",
       "        text-align: right;\n",
       "    }\n",
       "</style>\n",
       "<table border=\"1\" class=\"dataframe\">\n",
       "  <thead>\n",
       "    <tr style=\"text-align: right;\">\n",
       "      <th></th>\n",
       "      <th>ID</th>\n",
       "      <th>Year_Birth</th>\n",
       "      <th>Education</th>\n",
       "      <th>Mcat</th>\n",
       "      <th>Marital_Status</th>\n",
       "      <th>Income</th>\n",
       "      <th>Kidhome</th>\n",
       "      <th>Teenhome</th>\n",
       "      <th>Dt_Customer</th>\n",
       "      <th>Recency</th>\n",
       "      <th>...</th>\n",
       "      <th>NumStorePurchases</th>\n",
       "      <th>NumWebVisitsMonth</th>\n",
       "      <th>AcceptedCmp3</th>\n",
       "      <th>AcceptedCmp4</th>\n",
       "      <th>AcceptedCmp5</th>\n",
       "      <th>AcceptedCmp1</th>\n",
       "      <th>AcceptedCmp2</th>\n",
       "      <th>Response</th>\n",
       "      <th>Complain</th>\n",
       "      <th>Country</th>\n",
       "    </tr>\n",
       "  </thead>\n",
       "  <tbody>\n",
       "    <tr>\n",
       "      <th>0</th>\n",
       "      <td>1826</td>\n",
       "      <td>1970</td>\n",
       "      <td>Graduation</td>\n",
       "      <td>Sgl</td>\n",
       "      <td>Divorced</td>\n",
       "      <td>84835.0</td>\n",
       "      <td>0</td>\n",
       "      <td>0</td>\n",
       "      <td>2014-06-16</td>\n",
       "      <td>0</td>\n",
       "      <td>...</td>\n",
       "      <td>6</td>\n",
       "      <td>1</td>\n",
       "      <td>0</td>\n",
       "      <td>0</td>\n",
       "      <td>0</td>\n",
       "      <td>0</td>\n",
       "      <td>0</td>\n",
       "      <td>1</td>\n",
       "      <td>0</td>\n",
       "      <td>SP</td>\n",
       "    </tr>\n",
       "    <tr>\n",
       "      <th>1</th>\n",
       "      <td>1</td>\n",
       "      <td>1961</td>\n",
       "      <td>Graduation</td>\n",
       "      <td>Sgl</td>\n",
       "      <td>Single</td>\n",
       "      <td>57091.0</td>\n",
       "      <td>0</td>\n",
       "      <td>0</td>\n",
       "      <td>2014-06-15</td>\n",
       "      <td>0</td>\n",
       "      <td>...</td>\n",
       "      <td>7</td>\n",
       "      <td>5</td>\n",
       "      <td>0</td>\n",
       "      <td>0</td>\n",
       "      <td>0</td>\n",
       "      <td>0</td>\n",
       "      <td>1</td>\n",
       "      <td>1</td>\n",
       "      <td>0</td>\n",
       "      <td>CA</td>\n",
       "    </tr>\n",
       "    <tr>\n",
       "      <th>2</th>\n",
       "      <td>10476</td>\n",
       "      <td>1958</td>\n",
       "      <td>Graduation</td>\n",
       "      <td>Cpl</td>\n",
       "      <td>Married</td>\n",
       "      <td>67267.0</td>\n",
       "      <td>0</td>\n",
       "      <td>1</td>\n",
       "      <td>2014-05-13</td>\n",
       "      <td>0</td>\n",
       "      <td>...</td>\n",
       "      <td>5</td>\n",
       "      <td>2</td>\n",
       "      <td>0</td>\n",
       "      <td>0</td>\n",
       "      <td>0</td>\n",
       "      <td>0</td>\n",
       "      <td>0</td>\n",
       "      <td>0</td>\n",
       "      <td>0</td>\n",
       "      <td>US</td>\n",
       "    </tr>\n",
       "    <tr>\n",
       "      <th>3</th>\n",
       "      <td>1386</td>\n",
       "      <td>1967</td>\n",
       "      <td>Graduation</td>\n",
       "      <td>Cpl</td>\n",
       "      <td>Together</td>\n",
       "      <td>32474.0</td>\n",
       "      <td>1</td>\n",
       "      <td>1</td>\n",
       "      <td>2014-05-11</td>\n",
       "      <td>0</td>\n",
       "      <td>...</td>\n",
       "      <td>2</td>\n",
       "      <td>7</td>\n",
       "      <td>0</td>\n",
       "      <td>0</td>\n",
       "      <td>0</td>\n",
       "      <td>0</td>\n",
       "      <td>0</td>\n",
       "      <td>0</td>\n",
       "      <td>0</td>\n",
       "      <td>AUS</td>\n",
       "    </tr>\n",
       "    <tr>\n",
       "      <th>4</th>\n",
       "      <td>5371</td>\n",
       "      <td>1989</td>\n",
       "      <td>Graduation</td>\n",
       "      <td>Sgl</td>\n",
       "      <td>Single</td>\n",
       "      <td>21474.0</td>\n",
       "      <td>1</td>\n",
       "      <td>0</td>\n",
       "      <td>2014-04-08</td>\n",
       "      <td>0</td>\n",
       "      <td>...</td>\n",
       "      <td>2</td>\n",
       "      <td>7</td>\n",
       "      <td>1</td>\n",
       "      <td>0</td>\n",
       "      <td>0</td>\n",
       "      <td>0</td>\n",
       "      <td>0</td>\n",
       "      <td>1</td>\n",
       "      <td>0</td>\n",
       "      <td>SP</td>\n",
       "    </tr>\n",
       "  </tbody>\n",
       "</table>\n",
       "<p>5 rows × 29 columns</p>\n",
       "</div>"
      ],
      "text/plain": [
       "      ID  Year_Birth   Education Mcat Marital_Status   Income  Kidhome  \\\n",
       "0   1826        1970  Graduation  Sgl       Divorced  84835.0        0   \n",
       "1      1        1961  Graduation  Sgl         Single  57091.0        0   \n",
       "2  10476        1958  Graduation  Cpl        Married  67267.0        0   \n",
       "3   1386        1967  Graduation  Cpl       Together  32474.0        1   \n",
       "4   5371        1989  Graduation  Sgl         Single  21474.0        1   \n",
       "\n",
       "   Teenhome Dt_Customer  Recency  ...  NumStorePurchases  NumWebVisitsMonth  \\\n",
       "0         0  2014-06-16        0  ...                  6                  1   \n",
       "1         0  2014-06-15        0  ...                  7                  5   \n",
       "2         1  2014-05-13        0  ...                  5                  2   \n",
       "3         1  2014-05-11        0  ...                  2                  7   \n",
       "4         0  2014-04-08        0  ...                  2                  7   \n",
       "\n",
       "   AcceptedCmp3  AcceptedCmp4  AcceptedCmp5  AcceptedCmp1  AcceptedCmp2  \\\n",
       "0             0             0             0             0             0   \n",
       "1             0             0             0             0             1   \n",
       "2             0             0             0             0             0   \n",
       "3             0             0             0             0             0   \n",
       "4             1             0             0             0             0   \n",
       "\n",
       "   Response  Complain  Country  \n",
       "0         1         0       SP  \n",
       "1         1         0       CA  \n",
       "2         0         0       US  \n",
       "3         0         0      AUS  \n",
       "4         1         0       SP  \n",
       "\n",
       "[5 rows x 29 columns]"
      ]
     },
     "execution_count": 126,
     "metadata": {},
     "output_type": "execute_result"
    }
   ],
   "source": [
    "# Printing newly updated data\n",
    "mkt_data.head(5)"
   ]
  },
  {
   "cell_type": "markdown",
   "id": "c793be91-9af0-4790-84bd-e55872cf619e",
   "metadata": {},
   "source": [
    "### 3. Performing substitution of mean values in missing Income ###"
   ]
  },
  {
   "cell_type": "code",
   "execution_count": 127,
   "id": "7bebae42-cc14-4c4a-b1d0-da759de7be94",
   "metadata": {
    "tags": []
   },
   "outputs": [
    {
     "data": {
      "text/plain": [
       "Education   Mcat\n",
       "2n Cycle    Cpl     45597.992647\n",
       "            Sgl     51957.984375\n",
       "Basic       Cpl     21663.852941\n",
       "            Sgl     17998.350000\n",
       "Graduation  Cpl     52779.380952\n",
       "            Sgl     52615.569652\n",
       "Master      Cpl     52785.795833\n",
       "            Sgl     53170.472000\n",
       "PhD         Cpl     57285.373377\n",
       "            Sgl     54115.612717\n",
       "Name: Income, dtype: float64"
      ]
     },
     "execution_count": 127,
     "metadata": {},
     "output_type": "execute_result"
    }
   ],
   "source": [
    "# Identifying Mean values of Income for various Educational categories\n",
    "\n",
    "mkt_data.groupby(['Education', 'Mcat'])['Income'].mean()"
   ]
  },
  {
   "cell_type": "code",
   "execution_count": 128,
   "id": "ca0bd7d2-d2f6-4ac2-950a-a7163baaaa09",
   "metadata": {
    "tags": []
   },
   "outputs": [],
   "source": [
    "# Converting float Income data to integer\n",
    "def fltoint(val):\n",
    "    return int(val)\n"
   ]
  },
  {
   "cell_type": "code",
   "execution_count": 20,
   "id": "87928a00-d2e5-4bfe-b3fc-e525763cd4b5",
   "metadata": {
    "tags": []
   },
   "outputs": [],
   "source": [
    "#mkt_data['Income'] = mkt_data.Income.apply(fltoint)"
   ]
  },
  {
   "cell_type": "code",
   "execution_count": 129,
   "id": "40b488c3-cfa2-418a-a19f-73d3f466f39c",
   "metadata": {
    "tags": []
   },
   "outputs": [
    {
     "data": {
      "text/html": [
       "<div>\n",
       "<style scoped>\n",
       "    .dataframe tbody tr th:only-of-type {\n",
       "        vertical-align: middle;\n",
       "    }\n",
       "\n",
       "    .dataframe tbody tr th {\n",
       "        vertical-align: top;\n",
       "    }\n",
       "\n",
       "    .dataframe thead th {\n",
       "        text-align: right;\n",
       "    }\n",
       "</style>\n",
       "<table border=\"1\" class=\"dataframe\">\n",
       "  <thead>\n",
       "    <tr style=\"text-align: right;\">\n",
       "      <th></th>\n",
       "      <th>ID</th>\n",
       "      <th>Year_Birth</th>\n",
       "      <th>Education</th>\n",
       "      <th>Mcat</th>\n",
       "      <th>Marital_Status</th>\n",
       "      <th>Income</th>\n",
       "      <th>Kidhome</th>\n",
       "      <th>Teenhome</th>\n",
       "      <th>Dt_Customer</th>\n",
       "      <th>Recency</th>\n",
       "      <th>...</th>\n",
       "      <th>NumStorePurchases</th>\n",
       "      <th>NumWebVisitsMonth</th>\n",
       "      <th>AcceptedCmp3</th>\n",
       "      <th>AcceptedCmp4</th>\n",
       "      <th>AcceptedCmp5</th>\n",
       "      <th>AcceptedCmp1</th>\n",
       "      <th>AcceptedCmp2</th>\n",
       "      <th>Response</th>\n",
       "      <th>Complain</th>\n",
       "      <th>Country</th>\n",
       "    </tr>\n",
       "  </thead>\n",
       "  <tbody>\n",
       "    <tr>\n",
       "      <th>134</th>\n",
       "      <td>8996</td>\n",
       "      <td>1957</td>\n",
       "      <td>PhD</td>\n",
       "      <td>Cpl</td>\n",
       "      <td>Married</td>\n",
       "      <td>NaN</td>\n",
       "      <td>2</td>\n",
       "      <td>1</td>\n",
       "      <td>2012-11-19</td>\n",
       "      <td>4</td>\n",
       "      <td>...</td>\n",
       "      <td>8</td>\n",
       "      <td>9</td>\n",
       "      <td>0</td>\n",
       "      <td>0</td>\n",
       "      <td>0</td>\n",
       "      <td>0</td>\n",
       "      <td>0</td>\n",
       "      <td>0</td>\n",
       "      <td>0</td>\n",
       "      <td>GER</td>\n",
       "    </tr>\n",
       "    <tr>\n",
       "      <th>262</th>\n",
       "      <td>1994</td>\n",
       "      <td>1983</td>\n",
       "      <td>Graduation</td>\n",
       "      <td>Cpl</td>\n",
       "      <td>Married</td>\n",
       "      <td>NaN</td>\n",
       "      <td>1</td>\n",
       "      <td>0</td>\n",
       "      <td>2013-11-15</td>\n",
       "      <td>11</td>\n",
       "      <td>...</td>\n",
       "      <td>2</td>\n",
       "      <td>7</td>\n",
       "      <td>0</td>\n",
       "      <td>0</td>\n",
       "      <td>0</td>\n",
       "      <td>0</td>\n",
       "      <td>0</td>\n",
       "      <td>0</td>\n",
       "      <td>0</td>\n",
       "      <td>US</td>\n",
       "    </tr>\n",
       "    <tr>\n",
       "      <th>394</th>\n",
       "      <td>3769</td>\n",
       "      <td>1972</td>\n",
       "      <td>PhD</td>\n",
       "      <td>Cpl</td>\n",
       "      <td>Together</td>\n",
       "      <td>NaN</td>\n",
       "      <td>1</td>\n",
       "      <td>0</td>\n",
       "      <td>2014-03-02</td>\n",
       "      <td>17</td>\n",
       "      <td>...</td>\n",
       "      <td>3</td>\n",
       "      <td>7</td>\n",
       "      <td>0</td>\n",
       "      <td>0</td>\n",
       "      <td>0</td>\n",
       "      <td>0</td>\n",
       "      <td>0</td>\n",
       "      <td>0</td>\n",
       "      <td>0</td>\n",
       "      <td>AUS</td>\n",
       "    </tr>\n",
       "    <tr>\n",
       "      <th>449</th>\n",
       "      <td>5255</td>\n",
       "      <td>1986</td>\n",
       "      <td>Graduation</td>\n",
       "      <td>Sgl</td>\n",
       "      <td>Single</td>\n",
       "      <td>NaN</td>\n",
       "      <td>1</td>\n",
       "      <td>0</td>\n",
       "      <td>2013-02-20</td>\n",
       "      <td>19</td>\n",
       "      <td>...</td>\n",
       "      <td>0</td>\n",
       "      <td>1</td>\n",
       "      <td>0</td>\n",
       "      <td>0</td>\n",
       "      <td>0</td>\n",
       "      <td>0</td>\n",
       "      <td>0</td>\n",
       "      <td>0</td>\n",
       "      <td>0</td>\n",
       "      <td>AUS</td>\n",
       "    </tr>\n",
       "    <tr>\n",
       "      <th>525</th>\n",
       "      <td>8268</td>\n",
       "      <td>1961</td>\n",
       "      <td>PhD</td>\n",
       "      <td>Cpl</td>\n",
       "      <td>Married</td>\n",
       "      <td>NaN</td>\n",
       "      <td>0</td>\n",
       "      <td>1</td>\n",
       "      <td>2013-07-11</td>\n",
       "      <td>23</td>\n",
       "      <td>...</td>\n",
       "      <td>7</td>\n",
       "      <td>6</td>\n",
       "      <td>0</td>\n",
       "      <td>0</td>\n",
       "      <td>0</td>\n",
       "      <td>0</td>\n",
       "      <td>0</td>\n",
       "      <td>0</td>\n",
       "      <td>0</td>\n",
       "      <td>CA</td>\n",
       "    </tr>\n",
       "  </tbody>\n",
       "</table>\n",
       "<p>5 rows × 29 columns</p>\n",
       "</div>"
      ],
      "text/plain": [
       "       ID  Year_Birth   Education Mcat Marital_Status  Income  Kidhome  \\\n",
       "134  8996        1957         PhD  Cpl        Married     NaN        2   \n",
       "262  1994        1983  Graduation  Cpl        Married     NaN        1   \n",
       "394  3769        1972         PhD  Cpl       Together     NaN        1   \n",
       "449  5255        1986  Graduation  Sgl         Single     NaN        1   \n",
       "525  8268        1961         PhD  Cpl        Married     NaN        0   \n",
       "\n",
       "     Teenhome Dt_Customer  Recency  ...  NumStorePurchases  NumWebVisitsMonth  \\\n",
       "134         1  2012-11-19        4  ...                  8                  9   \n",
       "262         0  2013-11-15       11  ...                  2                  7   \n",
       "394         0  2014-03-02       17  ...                  3                  7   \n",
       "449         0  2013-02-20       19  ...                  0                  1   \n",
       "525         1  2013-07-11       23  ...                  7                  6   \n",
       "\n",
       "     AcceptedCmp3  AcceptedCmp4  AcceptedCmp5  AcceptedCmp1  AcceptedCmp2  \\\n",
       "134             0             0             0             0             0   \n",
       "262             0             0             0             0             0   \n",
       "394             0             0             0             0             0   \n",
       "449             0             0             0             0             0   \n",
       "525             0             0             0             0             0   \n",
       "\n",
       "     Response  Complain  Country  \n",
       "134         0         0      GER  \n",
       "262         0         0       US  \n",
       "394         0         0      AUS  \n",
       "449         0         0      AUS  \n",
       "525         0         0       CA  \n",
       "\n",
       "[5 rows x 29 columns]"
      ]
     },
     "execution_count": 129,
     "metadata": {},
     "output_type": "execute_result"
    }
   ],
   "source": [
    "# Identifying Income fields having Missing Income value\n",
    "\n",
    "mkt_data.loc[mkt_data.Income.isnull(), :].head()"
   ]
  },
  {
   "cell_type": "code",
   "execution_count": 130,
   "id": "2cd33737-67d0-4ee5-9937-b9e2de452293",
   "metadata": {
    "tags": []
   },
   "outputs": [],
   "source": [
    "# Substituting Income value with mean value of Income of each Educational categories\n",
    "for index, row in mkt_data.iterrows():\n",
    "    if pd.isnull(row['Income']):\n",
    "        education = row['Education']\n",
    "        marital_status = row['Mcat']\n",
    "        mkt_data.at[index, 'Income'] = mkt_data.groupby(['Education', 'Mcat'])['Income'].mean().get((education, marital_status), row['Income']).round(2)"
   ]
  },
  {
   "cell_type": "code",
   "execution_count": 131,
   "id": "03541cd6-baca-43dd-96e1-339eca5b0803",
   "metadata": {
    "tags": []
   },
   "outputs": [
    {
     "name": "stdout",
     "output_type": "stream",
     "text": [
      "Updated count of Null values in Income:  0\n"
     ]
    }
   ],
   "source": [
    "print(\"Updated count of Null values in Income: \", mkt_data['Income'].isnull().sum())"
   ]
  },
  {
   "cell_type": "markdown",
   "id": "36c711fb-7882-4c79-bd17-e3b3e6d7fbe2",
   "metadata": {
    "tags": []
   },
   "source": [
    "### 4. Checking specific entry for substituted value in place of Null###\n"
   ]
  },
  {
   "cell_type": "code",
   "execution_count": 132,
   "id": "1a730db8-7f7b-4fa6-ac90-2ffa2547587d",
   "metadata": {
    "tags": []
   },
   "outputs": [
    {
     "data": {
      "text/plain": [
       "57285.37"
      ]
     },
     "execution_count": 132,
     "metadata": {},
     "output_type": "execute_result"
    }
   ],
   "source": [
    "mkt_data.iloc[134].Income"
   ]
  },
  {
   "cell_type": "markdown",
   "id": "0be8245e-76e7-42d3-88c3-bbc0ff615654",
   "metadata": {},
   "source": [
    "## (C) VARIABLE CREATION"
   ]
  },
  {
   "cell_type": "markdown",
   "id": "d3b3f909-a1c7-4993-8b0e-70d1b68e1f44",
   "metadata": {
    "tags": []
   },
   "source": [
    "### 1. Variable for AGE "
   ]
  },
  {
   "cell_type": "code",
   "execution_count": 133,
   "id": "cc649a59-7047-4de9-90cb-5874b481e75b",
   "metadata": {
    "tags": []
   },
   "outputs": [],
   "source": [
    "# Function to calculate Age #\n",
    "\n",
    "def agecal (yearvalue):\n",
    "    return int(dt.datetime.today().year - yearvalue)\n",
    "\n",
    "# Applying function of current Data Frame to generate an Age Column at the end\n",
    "\n",
    "mkt_data['Age'] = mkt_data.Year_Birth.apply(agecal)"
   ]
  },
  {
   "cell_type": "code",
   "execution_count": 134,
   "id": "3c3529ec-bc18-4fce-974a-81688de46be3",
   "metadata": {
    "tags": []
   },
   "outputs": [
    {
     "data": {
      "text/html": [
       "<div>\n",
       "<style scoped>\n",
       "    .dataframe tbody tr th:only-of-type {\n",
       "        vertical-align: middle;\n",
       "    }\n",
       "\n",
       "    .dataframe tbody tr th {\n",
       "        vertical-align: top;\n",
       "    }\n",
       "\n",
       "    .dataframe thead th {\n",
       "        text-align: right;\n",
       "    }\n",
       "</style>\n",
       "<table border=\"1\" class=\"dataframe\">\n",
       "  <thead>\n",
       "    <tr style=\"text-align: right;\">\n",
       "      <th></th>\n",
       "      <th>ID</th>\n",
       "      <th>Year_Birth</th>\n",
       "      <th>Education</th>\n",
       "      <th>Mcat</th>\n",
       "      <th>Marital_Status</th>\n",
       "      <th>Income</th>\n",
       "      <th>Kidhome</th>\n",
       "      <th>Teenhome</th>\n",
       "      <th>Dt_Customer</th>\n",
       "      <th>Recency</th>\n",
       "      <th>...</th>\n",
       "      <th>NumWebVisitsMonth</th>\n",
       "      <th>AcceptedCmp3</th>\n",
       "      <th>AcceptedCmp4</th>\n",
       "      <th>AcceptedCmp5</th>\n",
       "      <th>AcceptedCmp1</th>\n",
       "      <th>AcceptedCmp2</th>\n",
       "      <th>Response</th>\n",
       "      <th>Complain</th>\n",
       "      <th>Country</th>\n",
       "      <th>Age</th>\n",
       "    </tr>\n",
       "  </thead>\n",
       "  <tbody>\n",
       "    <tr>\n",
       "      <th>0</th>\n",
       "      <td>1826</td>\n",
       "      <td>1970</td>\n",
       "      <td>Graduation</td>\n",
       "      <td>Sgl</td>\n",
       "      <td>Divorced</td>\n",
       "      <td>84835.0</td>\n",
       "      <td>0</td>\n",
       "      <td>0</td>\n",
       "      <td>2014-06-16</td>\n",
       "      <td>0</td>\n",
       "      <td>...</td>\n",
       "      <td>1</td>\n",
       "      <td>0</td>\n",
       "      <td>0</td>\n",
       "      <td>0</td>\n",
       "      <td>0</td>\n",
       "      <td>0</td>\n",
       "      <td>1</td>\n",
       "      <td>0</td>\n",
       "      <td>SP</td>\n",
       "      <td>54</td>\n",
       "    </tr>\n",
       "    <tr>\n",
       "      <th>1</th>\n",
       "      <td>1</td>\n",
       "      <td>1961</td>\n",
       "      <td>Graduation</td>\n",
       "      <td>Sgl</td>\n",
       "      <td>Single</td>\n",
       "      <td>57091.0</td>\n",
       "      <td>0</td>\n",
       "      <td>0</td>\n",
       "      <td>2014-06-15</td>\n",
       "      <td>0</td>\n",
       "      <td>...</td>\n",
       "      <td>5</td>\n",
       "      <td>0</td>\n",
       "      <td>0</td>\n",
       "      <td>0</td>\n",
       "      <td>0</td>\n",
       "      <td>1</td>\n",
       "      <td>1</td>\n",
       "      <td>0</td>\n",
       "      <td>CA</td>\n",
       "      <td>63</td>\n",
       "    </tr>\n",
       "    <tr>\n",
       "      <th>2</th>\n",
       "      <td>10476</td>\n",
       "      <td>1958</td>\n",
       "      <td>Graduation</td>\n",
       "      <td>Cpl</td>\n",
       "      <td>Married</td>\n",
       "      <td>67267.0</td>\n",
       "      <td>0</td>\n",
       "      <td>1</td>\n",
       "      <td>2014-05-13</td>\n",
       "      <td>0</td>\n",
       "      <td>...</td>\n",
       "      <td>2</td>\n",
       "      <td>0</td>\n",
       "      <td>0</td>\n",
       "      <td>0</td>\n",
       "      <td>0</td>\n",
       "      <td>0</td>\n",
       "      <td>0</td>\n",
       "      <td>0</td>\n",
       "      <td>US</td>\n",
       "      <td>66</td>\n",
       "    </tr>\n",
       "    <tr>\n",
       "      <th>3</th>\n",
       "      <td>1386</td>\n",
       "      <td>1967</td>\n",
       "      <td>Graduation</td>\n",
       "      <td>Cpl</td>\n",
       "      <td>Together</td>\n",
       "      <td>32474.0</td>\n",
       "      <td>1</td>\n",
       "      <td>1</td>\n",
       "      <td>2014-05-11</td>\n",
       "      <td>0</td>\n",
       "      <td>...</td>\n",
       "      <td>7</td>\n",
       "      <td>0</td>\n",
       "      <td>0</td>\n",
       "      <td>0</td>\n",
       "      <td>0</td>\n",
       "      <td>0</td>\n",
       "      <td>0</td>\n",
       "      <td>0</td>\n",
       "      <td>AUS</td>\n",
       "      <td>57</td>\n",
       "    </tr>\n",
       "    <tr>\n",
       "      <th>4</th>\n",
       "      <td>5371</td>\n",
       "      <td>1989</td>\n",
       "      <td>Graduation</td>\n",
       "      <td>Sgl</td>\n",
       "      <td>Single</td>\n",
       "      <td>21474.0</td>\n",
       "      <td>1</td>\n",
       "      <td>0</td>\n",
       "      <td>2014-04-08</td>\n",
       "      <td>0</td>\n",
       "      <td>...</td>\n",
       "      <td>7</td>\n",
       "      <td>1</td>\n",
       "      <td>0</td>\n",
       "      <td>0</td>\n",
       "      <td>0</td>\n",
       "      <td>0</td>\n",
       "      <td>1</td>\n",
       "      <td>0</td>\n",
       "      <td>SP</td>\n",
       "      <td>35</td>\n",
       "    </tr>\n",
       "  </tbody>\n",
       "</table>\n",
       "<p>5 rows × 30 columns</p>\n",
       "</div>"
      ],
      "text/plain": [
       "      ID  Year_Birth   Education Mcat Marital_Status   Income  Kidhome  \\\n",
       "0   1826        1970  Graduation  Sgl       Divorced  84835.0        0   \n",
       "1      1        1961  Graduation  Sgl         Single  57091.0        0   \n",
       "2  10476        1958  Graduation  Cpl        Married  67267.0        0   \n",
       "3   1386        1967  Graduation  Cpl       Together  32474.0        1   \n",
       "4   5371        1989  Graduation  Sgl         Single  21474.0        1   \n",
       "\n",
       "   Teenhome Dt_Customer  Recency  ...  NumWebVisitsMonth  AcceptedCmp3  \\\n",
       "0         0  2014-06-16        0  ...                  1             0   \n",
       "1         0  2014-06-15        0  ...                  5             0   \n",
       "2         1  2014-05-13        0  ...                  2             0   \n",
       "3         1  2014-05-11        0  ...                  7             0   \n",
       "4         0  2014-04-08        0  ...                  7             1   \n",
       "\n",
       "   AcceptedCmp4  AcceptedCmp5  AcceptedCmp1  AcceptedCmp2  Response  Complain  \\\n",
       "0             0             0             0             0         1         0   \n",
       "1             0             0             0             1         1         0   \n",
       "2             0             0             0             0         0         0   \n",
       "3             0             0             0             0         0         0   \n",
       "4             0             0             0             0         1         0   \n",
       "\n",
       "   Country  Age  \n",
       "0       SP   54  \n",
       "1       CA   63  \n",
       "2       US   66  \n",
       "3      AUS   57  \n",
       "4       SP   35  \n",
       "\n",
       "[5 rows x 30 columns]"
      ]
     },
     "execution_count": 134,
     "metadata": {},
     "output_type": "execute_result"
    }
   ],
   "source": [
    "# Validating presence of 'Age' column\n",
    "\n",
    "mkt_data.head()"
   ]
  },
  {
   "cell_type": "markdown",
   "id": "68b08ccb-b0d0-4085-a328-d12ba79d0c62",
   "metadata": {},
   "source": [
    "### 2. Variable for Total Spending"
   ]
  },
  {
   "cell_type": "code",
   "execution_count": 135,
   "id": "eba157c1-2dd4-4807-9ada-741095fc5270",
   "metadata": {
    "tags": []
   },
   "outputs": [],
   "source": [
    "# Assumption : Total Spending or Expenditure is sum of expenditure from MntWines, MntFruits, MntMeatProducts, MntFishProducts, MntSweetProducts, MntGoldProds for a particular customer\n",
    "\n",
    "mkt_data.insert(loc=4, column = 'TExpenditure', value = mkt_data.MntWines + mkt_data.MntFruits + mkt_data.MntMeatProducts + mkt_data.MntFishProducts + mkt_data.MntSweetProducts + mkt_data.MntGoldProds)"
   ]
  },
  {
   "cell_type": "code",
   "execution_count": 136,
   "id": "3746fea6-43dd-450c-b2dd-fcf6560639c0",
   "metadata": {
    "tags": []
   },
   "outputs": [
    {
     "data": {
      "text/html": [
       "<div>\n",
       "<style scoped>\n",
       "    .dataframe tbody tr th:only-of-type {\n",
       "        vertical-align: middle;\n",
       "    }\n",
       "\n",
       "    .dataframe tbody tr th {\n",
       "        vertical-align: top;\n",
       "    }\n",
       "\n",
       "    .dataframe thead th {\n",
       "        text-align: right;\n",
       "    }\n",
       "</style>\n",
       "<table border=\"1\" class=\"dataframe\">\n",
       "  <thead>\n",
       "    <tr style=\"text-align: right;\">\n",
       "      <th></th>\n",
       "      <th>ID</th>\n",
       "      <th>Year_Birth</th>\n",
       "      <th>Education</th>\n",
       "      <th>Mcat</th>\n",
       "      <th>TExpenditure</th>\n",
       "      <th>Marital_Status</th>\n",
       "      <th>Income</th>\n",
       "      <th>Kidhome</th>\n",
       "      <th>Teenhome</th>\n",
       "      <th>Dt_Customer</th>\n",
       "      <th>...</th>\n",
       "      <th>NumWebVisitsMonth</th>\n",
       "      <th>AcceptedCmp3</th>\n",
       "      <th>AcceptedCmp4</th>\n",
       "      <th>AcceptedCmp5</th>\n",
       "      <th>AcceptedCmp1</th>\n",
       "      <th>AcceptedCmp2</th>\n",
       "      <th>Response</th>\n",
       "      <th>Complain</th>\n",
       "      <th>Country</th>\n",
       "      <th>Age</th>\n",
       "    </tr>\n",
       "  </thead>\n",
       "  <tbody>\n",
       "    <tr>\n",
       "      <th>0</th>\n",
       "      <td>1826</td>\n",
       "      <td>1970</td>\n",
       "      <td>Graduation</td>\n",
       "      <td>Sgl</td>\n",
       "      <td>1190</td>\n",
       "      <td>Divorced</td>\n",
       "      <td>84835.0</td>\n",
       "      <td>0</td>\n",
       "      <td>0</td>\n",
       "      <td>2014-06-16</td>\n",
       "      <td>...</td>\n",
       "      <td>1</td>\n",
       "      <td>0</td>\n",
       "      <td>0</td>\n",
       "      <td>0</td>\n",
       "      <td>0</td>\n",
       "      <td>0</td>\n",
       "      <td>1</td>\n",
       "      <td>0</td>\n",
       "      <td>SP</td>\n",
       "      <td>54</td>\n",
       "    </tr>\n",
       "    <tr>\n",
       "      <th>1</th>\n",
       "      <td>1</td>\n",
       "      <td>1961</td>\n",
       "      <td>Graduation</td>\n",
       "      <td>Sgl</td>\n",
       "      <td>577</td>\n",
       "      <td>Single</td>\n",
       "      <td>57091.0</td>\n",
       "      <td>0</td>\n",
       "      <td>0</td>\n",
       "      <td>2014-06-15</td>\n",
       "      <td>...</td>\n",
       "      <td>5</td>\n",
       "      <td>0</td>\n",
       "      <td>0</td>\n",
       "      <td>0</td>\n",
       "      <td>0</td>\n",
       "      <td>1</td>\n",
       "      <td>1</td>\n",
       "      <td>0</td>\n",
       "      <td>CA</td>\n",
       "      <td>63</td>\n",
       "    </tr>\n",
       "    <tr>\n",
       "      <th>2</th>\n",
       "      <td>10476</td>\n",
       "      <td>1958</td>\n",
       "      <td>Graduation</td>\n",
       "      <td>Cpl</td>\n",
       "      <td>251</td>\n",
       "      <td>Married</td>\n",
       "      <td>67267.0</td>\n",
       "      <td>0</td>\n",
       "      <td>1</td>\n",
       "      <td>2014-05-13</td>\n",
       "      <td>...</td>\n",
       "      <td>2</td>\n",
       "      <td>0</td>\n",
       "      <td>0</td>\n",
       "      <td>0</td>\n",
       "      <td>0</td>\n",
       "      <td>0</td>\n",
       "      <td>0</td>\n",
       "      <td>0</td>\n",
       "      <td>US</td>\n",
       "      <td>66</td>\n",
       "    </tr>\n",
       "    <tr>\n",
       "      <th>3</th>\n",
       "      <td>1386</td>\n",
       "      <td>1967</td>\n",
       "      <td>Graduation</td>\n",
       "      <td>Cpl</td>\n",
       "      <td>11</td>\n",
       "      <td>Together</td>\n",
       "      <td>32474.0</td>\n",
       "      <td>1</td>\n",
       "      <td>1</td>\n",
       "      <td>2014-05-11</td>\n",
       "      <td>...</td>\n",
       "      <td>7</td>\n",
       "      <td>0</td>\n",
       "      <td>0</td>\n",
       "      <td>0</td>\n",
       "      <td>0</td>\n",
       "      <td>0</td>\n",
       "      <td>0</td>\n",
       "      <td>0</td>\n",
       "      <td>AUS</td>\n",
       "      <td>57</td>\n",
       "    </tr>\n",
       "    <tr>\n",
       "      <th>4</th>\n",
       "      <td>5371</td>\n",
       "      <td>1989</td>\n",
       "      <td>Graduation</td>\n",
       "      <td>Sgl</td>\n",
       "      <td>91</td>\n",
       "      <td>Single</td>\n",
       "      <td>21474.0</td>\n",
       "      <td>1</td>\n",
       "      <td>0</td>\n",
       "      <td>2014-04-08</td>\n",
       "      <td>...</td>\n",
       "      <td>7</td>\n",
       "      <td>1</td>\n",
       "      <td>0</td>\n",
       "      <td>0</td>\n",
       "      <td>0</td>\n",
       "      <td>0</td>\n",
       "      <td>1</td>\n",
       "      <td>0</td>\n",
       "      <td>SP</td>\n",
       "      <td>35</td>\n",
       "    </tr>\n",
       "  </tbody>\n",
       "</table>\n",
       "<p>5 rows × 31 columns</p>\n",
       "</div>"
      ],
      "text/plain": [
       "      ID  Year_Birth   Education Mcat  TExpenditure Marital_Status   Income  \\\n",
       "0   1826        1970  Graduation  Sgl          1190       Divorced  84835.0   \n",
       "1      1        1961  Graduation  Sgl           577         Single  57091.0   \n",
       "2  10476        1958  Graduation  Cpl           251        Married  67267.0   \n",
       "3   1386        1967  Graduation  Cpl            11       Together  32474.0   \n",
       "4   5371        1989  Graduation  Sgl            91         Single  21474.0   \n",
       "\n",
       "   Kidhome  Teenhome Dt_Customer  ...  NumWebVisitsMonth  AcceptedCmp3  \\\n",
       "0        0         0  2014-06-16  ...                  1             0   \n",
       "1        0         0  2014-06-15  ...                  5             0   \n",
       "2        0         1  2014-05-13  ...                  2             0   \n",
       "3        1         1  2014-05-11  ...                  7             0   \n",
       "4        1         0  2014-04-08  ...                  7             1   \n",
       "\n",
       "   AcceptedCmp4  AcceptedCmp5  AcceptedCmp1  AcceptedCmp2  Response  Complain  \\\n",
       "0             0             0             0             0         1         0   \n",
       "1             0             0             0             1         1         0   \n",
       "2             0             0             0             0         0         0   \n",
       "3             0             0             0             0         0         0   \n",
       "4             0             0             0             0         1         0   \n",
       "\n",
       "   Country  Age  \n",
       "0       SP   54  \n",
       "1       CA   63  \n",
       "2       US   66  \n",
       "3      AUS   57  \n",
       "4       SP   35  \n",
       "\n",
       "[5 rows x 31 columns]"
      ]
     },
     "execution_count": 136,
     "metadata": {},
     "output_type": "execute_result"
    }
   ],
   "source": [
    "# Validating presence of a new column TExpenditure that contains total spending of a person\n",
    "\n",
    "mkt_data.head()"
   ]
  },
  {
   "cell_type": "markdown",
   "id": "8ca15ce7-05b2-4769-9ebd-bbdcd9cddb0f",
   "metadata": {},
   "source": [
    "### 3. Variable for Total number of children"
   ]
  },
  {
   "cell_type": "code",
   "execution_count": 137,
   "id": "367158bf-874a-4b7b-8a65-77b793c62c91",
   "metadata": {
    "tags": []
   },
   "outputs": [],
   "source": [
    "# Total number of children assumed to be both Kids and Teens at home\n",
    "\n",
    "mkt_data['Children'] = mkt_data.Kidhome + mkt_data.Teenhome"
   ]
  },
  {
   "cell_type": "code",
   "execution_count": 138,
   "id": "5d424ebe-0cfa-4597-a113-c16958c2692f",
   "metadata": {
    "tags": []
   },
   "outputs": [
    {
     "data": {
      "text/html": [
       "<div>\n",
       "<style scoped>\n",
       "    .dataframe tbody tr th:only-of-type {\n",
       "        vertical-align: middle;\n",
       "    }\n",
       "\n",
       "    .dataframe tbody tr th {\n",
       "        vertical-align: top;\n",
       "    }\n",
       "\n",
       "    .dataframe thead th {\n",
       "        text-align: right;\n",
       "    }\n",
       "</style>\n",
       "<table border=\"1\" class=\"dataframe\">\n",
       "  <thead>\n",
       "    <tr style=\"text-align: right;\">\n",
       "      <th></th>\n",
       "      <th>ID</th>\n",
       "      <th>Year_Birth</th>\n",
       "      <th>Education</th>\n",
       "      <th>Mcat</th>\n",
       "      <th>TExpenditure</th>\n",
       "      <th>Marital_Status</th>\n",
       "      <th>Income</th>\n",
       "      <th>Kidhome</th>\n",
       "      <th>Teenhome</th>\n",
       "      <th>Dt_Customer</th>\n",
       "      <th>...</th>\n",
       "      <th>AcceptedCmp3</th>\n",
       "      <th>AcceptedCmp4</th>\n",
       "      <th>AcceptedCmp5</th>\n",
       "      <th>AcceptedCmp1</th>\n",
       "      <th>AcceptedCmp2</th>\n",
       "      <th>Response</th>\n",
       "      <th>Complain</th>\n",
       "      <th>Country</th>\n",
       "      <th>Age</th>\n",
       "      <th>Children</th>\n",
       "    </tr>\n",
       "  </thead>\n",
       "  <tbody>\n",
       "    <tr>\n",
       "      <th>0</th>\n",
       "      <td>1826</td>\n",
       "      <td>1970</td>\n",
       "      <td>Graduation</td>\n",
       "      <td>Sgl</td>\n",
       "      <td>1190</td>\n",
       "      <td>Divorced</td>\n",
       "      <td>84835.0</td>\n",
       "      <td>0</td>\n",
       "      <td>0</td>\n",
       "      <td>2014-06-16</td>\n",
       "      <td>...</td>\n",
       "      <td>0</td>\n",
       "      <td>0</td>\n",
       "      <td>0</td>\n",
       "      <td>0</td>\n",
       "      <td>0</td>\n",
       "      <td>1</td>\n",
       "      <td>0</td>\n",
       "      <td>SP</td>\n",
       "      <td>54</td>\n",
       "      <td>0</td>\n",
       "    </tr>\n",
       "    <tr>\n",
       "      <th>1</th>\n",
       "      <td>1</td>\n",
       "      <td>1961</td>\n",
       "      <td>Graduation</td>\n",
       "      <td>Sgl</td>\n",
       "      <td>577</td>\n",
       "      <td>Single</td>\n",
       "      <td>57091.0</td>\n",
       "      <td>0</td>\n",
       "      <td>0</td>\n",
       "      <td>2014-06-15</td>\n",
       "      <td>...</td>\n",
       "      <td>0</td>\n",
       "      <td>0</td>\n",
       "      <td>0</td>\n",
       "      <td>0</td>\n",
       "      <td>1</td>\n",
       "      <td>1</td>\n",
       "      <td>0</td>\n",
       "      <td>CA</td>\n",
       "      <td>63</td>\n",
       "      <td>0</td>\n",
       "    </tr>\n",
       "    <tr>\n",
       "      <th>2</th>\n",
       "      <td>10476</td>\n",
       "      <td>1958</td>\n",
       "      <td>Graduation</td>\n",
       "      <td>Cpl</td>\n",
       "      <td>251</td>\n",
       "      <td>Married</td>\n",
       "      <td>67267.0</td>\n",
       "      <td>0</td>\n",
       "      <td>1</td>\n",
       "      <td>2014-05-13</td>\n",
       "      <td>...</td>\n",
       "      <td>0</td>\n",
       "      <td>0</td>\n",
       "      <td>0</td>\n",
       "      <td>0</td>\n",
       "      <td>0</td>\n",
       "      <td>0</td>\n",
       "      <td>0</td>\n",
       "      <td>US</td>\n",
       "      <td>66</td>\n",
       "      <td>1</td>\n",
       "    </tr>\n",
       "    <tr>\n",
       "      <th>3</th>\n",
       "      <td>1386</td>\n",
       "      <td>1967</td>\n",
       "      <td>Graduation</td>\n",
       "      <td>Cpl</td>\n",
       "      <td>11</td>\n",
       "      <td>Together</td>\n",
       "      <td>32474.0</td>\n",
       "      <td>1</td>\n",
       "      <td>1</td>\n",
       "      <td>2014-05-11</td>\n",
       "      <td>...</td>\n",
       "      <td>0</td>\n",
       "      <td>0</td>\n",
       "      <td>0</td>\n",
       "      <td>0</td>\n",
       "      <td>0</td>\n",
       "      <td>0</td>\n",
       "      <td>0</td>\n",
       "      <td>AUS</td>\n",
       "      <td>57</td>\n",
       "      <td>2</td>\n",
       "    </tr>\n",
       "    <tr>\n",
       "      <th>4</th>\n",
       "      <td>5371</td>\n",
       "      <td>1989</td>\n",
       "      <td>Graduation</td>\n",
       "      <td>Sgl</td>\n",
       "      <td>91</td>\n",
       "      <td>Single</td>\n",
       "      <td>21474.0</td>\n",
       "      <td>1</td>\n",
       "      <td>0</td>\n",
       "      <td>2014-04-08</td>\n",
       "      <td>...</td>\n",
       "      <td>1</td>\n",
       "      <td>0</td>\n",
       "      <td>0</td>\n",
       "      <td>0</td>\n",
       "      <td>0</td>\n",
       "      <td>1</td>\n",
       "      <td>0</td>\n",
       "      <td>SP</td>\n",
       "      <td>35</td>\n",
       "      <td>1</td>\n",
       "    </tr>\n",
       "  </tbody>\n",
       "</table>\n",
       "<p>5 rows × 32 columns</p>\n",
       "</div>"
      ],
      "text/plain": [
       "      ID  Year_Birth   Education Mcat  TExpenditure Marital_Status   Income  \\\n",
       "0   1826        1970  Graduation  Sgl          1190       Divorced  84835.0   \n",
       "1      1        1961  Graduation  Sgl           577         Single  57091.0   \n",
       "2  10476        1958  Graduation  Cpl           251        Married  67267.0   \n",
       "3   1386        1967  Graduation  Cpl            11       Together  32474.0   \n",
       "4   5371        1989  Graduation  Sgl            91         Single  21474.0   \n",
       "\n",
       "   Kidhome  Teenhome Dt_Customer  ...  AcceptedCmp3  AcceptedCmp4  \\\n",
       "0        0         0  2014-06-16  ...             0             0   \n",
       "1        0         0  2014-06-15  ...             0             0   \n",
       "2        0         1  2014-05-13  ...             0             0   \n",
       "3        1         1  2014-05-11  ...             0             0   \n",
       "4        1         0  2014-04-08  ...             1             0   \n",
       "\n",
       "   AcceptedCmp5  AcceptedCmp1  AcceptedCmp2  Response  Complain  Country  Age  \\\n",
       "0             0             0             0         1         0       SP   54   \n",
       "1             0             0             1         1         0       CA   63   \n",
       "2             0             0             0         0         0       US   66   \n",
       "3             0             0             0         0         0      AUS   57   \n",
       "4             0             0             0         1         0       SP   35   \n",
       "\n",
       "   Children  \n",
       "0         0  \n",
       "1         0  \n",
       "2         1  \n",
       "3         2  \n",
       "4         1  \n",
       "\n",
       "[5 rows x 32 columns]"
      ]
     },
     "execution_count": 138,
     "metadata": {},
     "output_type": "execute_result"
    }
   ],
   "source": [
    "#Validating presence of total children\n",
    "\n",
    "mkt_data.head()"
   ]
  },
  {
   "cell_type": "markdown",
   "id": "e6be8ed5-992b-4217-ae2b-e27790a22551",
   "metadata": {},
   "source": [
    "## (D) OUTLIERS AND DIAGRAMS ##"
   ]
  },
  {
   "cell_type": "markdown",
   "id": "561f78b0-51b0-4389-b3ce-15e7bb64d4a0",
   "metadata": {},
   "source": [
    "### 1. Generating histogram for age ###"
   ]
  },
  {
   "cell_type": "code",
   "execution_count": 139,
   "id": "9d1dd3b3-2b50-422e-8e7e-e2a5fe13aa01",
   "metadata": {
    "tags": []
   },
   "outputs": [
    {
     "data": {
      "image/png": "[encoded data removed]",
      "text/plain": [
       "<Figure size 800x600 with 1 Axes>"
      ]
     },
     "metadata": {},
     "output_type": "display_data"
    }
   ],
   "source": [
    "plt.figure(figsize=(8, 6))\n",
    "plt.hist(mkt_data['Age'], bins=10, color='skyblue', edgecolor='black')\n",
    "plt.title('Histogram of Ages')\n",
    "plt.xlabel('Age')\n",
    "plt.ylabel('Frequency')\n",
    "plt.show()"
   ]
  },
  {
   "cell_type": "code",
   "execution_count": 40,
   "id": "ac43bc96-32e1-473a-8eab-a806ad3cedac",
   "metadata": {
    "tags": []
   },
   "outputs": [],
   "source": [
    "# Observation - A potential outlier visible for values more than 100"
   ]
  },
  {
   "cell_type": "markdown",
   "id": "3cf4ee2a-33bc-4697-915d-09cc61751ccc",
   "metadata": {},
   "source": [
    "### 2. Identify outliers ###"
   ]
  },
  {
   "cell_type": "code",
   "execution_count": 32,
   "id": "199c8a75-4117-4f57-bd71-23a4a531145c",
   "metadata": {
    "tags": []
   },
   "outputs": [],
   "source": [
    "### Age outliers ###"
   ]
  },
  {
   "cell_type": "code",
   "execution_count": 140,
   "id": "1482e0a0-7583-40b9-b359-07b5cc6bc57a",
   "metadata": {
    "tags": []
   },
   "outputs": [
    {
     "name": "stdout",
     "output_type": "stream",
     "text": [
      "Displaying potential Outliers in Age: \n",
      "\n"
     ]
    },
    {
     "data": {
      "text/html": [
       "<div>\n",
       "<style scoped>\n",
       "    .dataframe tbody tr th:only-of-type {\n",
       "        vertical-align: middle;\n",
       "    }\n",
       "\n",
       "    .dataframe tbody tr th {\n",
       "        vertical-align: top;\n",
       "    }\n",
       "\n",
       "    .dataframe thead th {\n",
       "        text-align: right;\n",
       "    }\n",
       "</style>\n",
       "<table border=\"1\" class=\"dataframe\">\n",
       "  <thead>\n",
       "    <tr style=\"text-align: right;\">\n",
       "      <th></th>\n",
       "      <th>ID</th>\n",
       "      <th>Year_Birth</th>\n",
       "      <th>Education</th>\n",
       "      <th>Mcat</th>\n",
       "      <th>TExpenditure</th>\n",
       "      <th>Marital_Status</th>\n",
       "      <th>Income</th>\n",
       "      <th>Kidhome</th>\n",
       "      <th>Teenhome</th>\n",
       "      <th>Dt_Customer</th>\n",
       "      <th>...</th>\n",
       "      <th>AcceptedCmp3</th>\n",
       "      <th>AcceptedCmp4</th>\n",
       "      <th>AcceptedCmp5</th>\n",
       "      <th>AcceptedCmp1</th>\n",
       "      <th>AcceptedCmp2</th>\n",
       "      <th>Response</th>\n",
       "      <th>Complain</th>\n",
       "      <th>Country</th>\n",
       "      <th>Age</th>\n",
       "      <th>Children</th>\n",
       "    </tr>\n",
       "  </thead>\n",
       "  <tbody>\n",
       "    <tr>\n",
       "      <th>513</th>\n",
       "      <td>11004</td>\n",
       "      <td>1893</td>\n",
       "      <td>2n Cycle</td>\n",
       "      <td>Sgl</td>\n",
       "      <td>22</td>\n",
       "      <td>Single</td>\n",
       "      <td>60182.0</td>\n",
       "      <td>0</td>\n",
       "      <td>1</td>\n",
       "      <td>2014-05-17</td>\n",
       "      <td>...</td>\n",
       "      <td>0</td>\n",
       "      <td>0</td>\n",
       "      <td>0</td>\n",
       "      <td>0</td>\n",
       "      <td>0</td>\n",
       "      <td>0</td>\n",
       "      <td>0</td>\n",
       "      <td>SA</td>\n",
       "      <td>131</td>\n",
       "      <td>1</td>\n",
       "    </tr>\n",
       "    <tr>\n",
       "      <th>827</th>\n",
       "      <td>1150</td>\n",
       "      <td>1899</td>\n",
       "      <td>PhD</td>\n",
       "      <td>Cpl</td>\n",
       "      <td>1853</td>\n",
       "      <td>Together</td>\n",
       "      <td>83532.0</td>\n",
       "      <td>0</td>\n",
       "      <td>0</td>\n",
       "      <td>2013-09-26</td>\n",
       "      <td>...</td>\n",
       "      <td>0</td>\n",
       "      <td>0</td>\n",
       "      <td>1</td>\n",
       "      <td>0</td>\n",
       "      <td>0</td>\n",
       "      <td>0</td>\n",
       "      <td>0</td>\n",
       "      <td>SP</td>\n",
       "      <td>125</td>\n",
       "      <td>0</td>\n",
       "    </tr>\n",
       "    <tr>\n",
       "      <th>2233</th>\n",
       "      <td>7829</td>\n",
       "      <td>1900</td>\n",
       "      <td>2n Cycle</td>\n",
       "      <td>Sgl</td>\n",
       "      <td>65</td>\n",
       "      <td>Divorced</td>\n",
       "      <td>36640.0</td>\n",
       "      <td>1</td>\n",
       "      <td>0</td>\n",
       "      <td>2013-09-26</td>\n",
       "      <td>...</td>\n",
       "      <td>0</td>\n",
       "      <td>0</td>\n",
       "      <td>0</td>\n",
       "      <td>0</td>\n",
       "      <td>0</td>\n",
       "      <td>0</td>\n",
       "      <td>1</td>\n",
       "      <td>IND</td>\n",
       "      <td>124</td>\n",
       "      <td>1</td>\n",
       "    </tr>\n",
       "  </tbody>\n",
       "</table>\n",
       "<p>3 rows × 32 columns</p>\n",
       "</div>"
      ],
      "text/plain": [
       "         ID  Year_Birth Education Mcat  TExpenditure Marital_Status   Income  \\\n",
       "513   11004        1893  2n Cycle  Sgl            22         Single  60182.0   \n",
       "827    1150        1899       PhD  Cpl          1853       Together  83532.0   \n",
       "2233   7829        1900  2n Cycle  Sgl            65       Divorced  36640.0   \n",
       "\n",
       "      Kidhome  Teenhome Dt_Customer  ...  AcceptedCmp3  AcceptedCmp4  \\\n",
       "513         0         1  2014-05-17  ...             0             0   \n",
       "827         0         0  2013-09-26  ...             0             0   \n",
       "2233        1         0  2013-09-26  ...             0             0   \n",
       "\n",
       "      AcceptedCmp5  AcceptedCmp1  AcceptedCmp2  Response  Complain  Country  \\\n",
       "513              0             0             0         0         0       SA   \n",
       "827              1             0             0         0         0       SP   \n",
       "2233             0             0             0         0         1      IND   \n",
       "\n",
       "      Age  Children  \n",
       "513   131         1  \n",
       "827   125         0  \n",
       "2233  124         1  \n",
       "\n",
       "[3 rows x 32 columns]"
      ]
     },
     "execution_count": 140,
     "metadata": {},
     "output_type": "execute_result"
    }
   ],
   "source": [
    "# Calculating value which lies beyond a certain range (Inter Quartile Range)\n",
    "\n",
    "Q1 = mkt_data.Age.quantile(0.25)\n",
    "Q3 = mkt_data.Age.quantile(0.75)\n",
    "IQR = Q3 - Q1\n",
    "lower_bound = Q1 - 1.5 * IQR\n",
    "upper_bound = Q3 + 1.5 * IQR\n",
    "outliers = mkt_data[(mkt_data['Age'] < lower_bound) | (mkt_data['Age'] > upper_bound)]\n",
    "\n",
    "print(\"Displaying potential Outliers in Age: \")\n",
    "print()\n",
    "outliers"
   ]
  },
  {
   "cell_type": "code",
   "execution_count": 141,
   "id": "ffa07d65-49b2-4cc0-b1b0-95abed26ffc2",
   "metadata": {},
   "outputs": [
    {
     "name": "stdout",
     "output_type": "stream",
     "text": [
      "Displaying potential Outliers in Age: \n",
      "\n"
     ]
    },
    {
     "data": {
      "text/html": [
       "<div>\n",
       "<style scoped>\n",
       "    .dataframe tbody tr th:only-of-type {\n",
       "        vertical-align: middle;\n",
       "    }\n",
       "\n",
       "    .dataframe tbody tr th {\n",
       "        vertical-align: top;\n",
       "    }\n",
       "\n",
       "    .dataframe thead th {\n",
       "        text-align: right;\n",
       "    }\n",
       "</style>\n",
       "<table border=\"1\" class=\"dataframe\">\n",
       "  <thead>\n",
       "    <tr style=\"text-align: right;\">\n",
       "      <th></th>\n",
       "      <th>ID</th>\n",
       "      <th>Year_Birth</th>\n",
       "      <th>Education</th>\n",
       "      <th>Mcat</th>\n",
       "      <th>TExpenditure</th>\n",
       "      <th>Marital_Status</th>\n",
       "      <th>Income</th>\n",
       "      <th>Kidhome</th>\n",
       "      <th>Teenhome</th>\n",
       "      <th>Dt_Customer</th>\n",
       "      <th>...</th>\n",
       "      <th>AcceptedCmp3</th>\n",
       "      <th>AcceptedCmp4</th>\n",
       "      <th>AcceptedCmp5</th>\n",
       "      <th>AcceptedCmp1</th>\n",
       "      <th>AcceptedCmp2</th>\n",
       "      <th>Response</th>\n",
       "      <th>Complain</th>\n",
       "      <th>Country</th>\n",
       "      <th>Age</th>\n",
       "      <th>Children</th>\n",
       "    </tr>\n",
       "  </thead>\n",
       "  <tbody>\n",
       "  </tbody>\n",
       "</table>\n",
       "<p>0 rows × 32 columns</p>\n",
       "</div>"
      ],
      "text/plain": [
       "Empty DataFrame\n",
       "Columns: [ID, Year_Birth, Education, Mcat, TExpenditure, Marital_Status, Income, Kidhome, Teenhome, Dt_Customer, Recency, MntWines, MntFruits, MntMeatProducts, MntFishProducts, MntSweetProducts, MntGoldProds, NumDealsPurchases, NumWebPurchases, NumCatalogPurchases, NumStorePurchases, NumWebVisitsMonth, AcceptedCmp3, AcceptedCmp4, AcceptedCmp5, AcceptedCmp1, AcceptedCmp2, Response, Complain, Country, Age, Children]\n",
       "Index: []\n",
       "\n",
       "[0 rows x 32 columns]"
      ]
     },
     "execution_count": 141,
     "metadata": {},
     "output_type": "execute_result"
    }
   ],
   "source": [
    "# Substituting outlier values with upper and lower bound values #\n",
    "\n",
    "mkt_data['Age'] = mkt_data['Age'].apply(lambda x: upper_bound if x > upper_bound else (lower_bound if x < lower_bound else x))\n",
    "outliers = mkt_data[(mkt_data['Age'] < lower_bound) | (mkt_data['Age'] > upper_bound)]\n",
    "\n",
    "print(\"Displaying potential Outliers in Age: \")\n",
    "print()\n",
    "outliers"
   ]
  },
  {
   "cell_type": "code",
   "execution_count": 142,
   "id": "0e72937f-407f-4167-9f86-8f756a018864",
   "metadata": {
    "tags": []
   },
   "outputs": [
    {
     "data": {
      "image/png": "[encoded data removed]",
      "text/plain": [
       "<Figure size 800x600 with 1 Axes>"
      ]
     },
     "metadata": {},
     "output_type": "display_data"
    }
   ],
   "source": [
    "# Updated Histogram after Outlier treatment\n",
    "\n",
    "plt.figure(figsize=(8, 6))\n",
    "plt.hist(mkt_data['Age'], bins=10, color='skyblue', edgecolor='black')\n",
    "plt.title('Histogram of Ages')\n",
    "plt.xlabel('Age')\n",
    "plt.ylabel('Frequency')\n",
    "plt.show()"
   ]
  },
  {
   "cell_type": "code",
   "execution_count": null,
   "id": "32d8bd3d-f863-44a7-a757-72e976002d61",
   "metadata": {},
   "outputs": [],
   "source": [
    "### Salary outliers ###"
   ]
  },
  {
   "cell_type": "code",
   "execution_count": 143,
   "id": "1bd5a412-50b0-4851-8d93-bfe4e9571148",
   "metadata": {
    "tags": []
   },
   "outputs": [
    {
     "data": {
      "image/png": "[encoded data removed]",
      "text/plain": [
       "<Figure size 800x600 with 1 Axes>"
      ]
     },
     "metadata": {},
     "output_type": "display_data"
    }
   ],
   "source": [
    "plt.figure(figsize=(8, 6))\n",
    "plt.boxplot(mkt_data['Income'], vert=False)\n",
    "plt.title('Box Plot - Salary')\n",
    "plt.xlabel('Income')\n",
    "plt.show()"
   ]
  },
  {
   "cell_type": "code",
   "execution_count": 144,
   "id": "191705d5-c2c8-4d21-924b-8622aa775305",
   "metadata": {
    "tags": []
   },
   "outputs": [
    {
     "name": "stdout",
     "output_type": "stream",
     "text": [
      "Displaying potential Outliers in Income: \n",
      "\n"
     ]
    },
    {
     "data": {
      "text/html": [
       "<div>\n",
       "<style scoped>\n",
       "    .dataframe tbody tr th:only-of-type {\n",
       "        vertical-align: middle;\n",
       "    }\n",
       "\n",
       "    .dataframe tbody tr th {\n",
       "        vertical-align: top;\n",
       "    }\n",
       "\n",
       "    .dataframe thead th {\n",
       "        text-align: right;\n",
       "    }\n",
       "</style>\n",
       "<table border=\"1\" class=\"dataframe\">\n",
       "  <thead>\n",
       "    <tr style=\"text-align: right;\">\n",
       "      <th></th>\n",
       "      <th>ID</th>\n",
       "      <th>Year_Birth</th>\n",
       "      <th>Education</th>\n",
       "      <th>Mcat</th>\n",
       "      <th>TExpenditure</th>\n",
       "      <th>Marital_Status</th>\n",
       "      <th>Income</th>\n",
       "      <th>Kidhome</th>\n",
       "      <th>Teenhome</th>\n",
       "      <th>Dt_Customer</th>\n",
       "      <th>...</th>\n",
       "      <th>AcceptedCmp3</th>\n",
       "      <th>AcceptedCmp4</th>\n",
       "      <th>AcceptedCmp5</th>\n",
       "      <th>AcceptedCmp1</th>\n",
       "      <th>AcceptedCmp2</th>\n",
       "      <th>Response</th>\n",
       "      <th>Complain</th>\n",
       "      <th>Country</th>\n",
       "      <th>Age</th>\n",
       "      <th>Children</th>\n",
       "    </tr>\n",
       "  </thead>\n",
       "  <tbody>\n",
       "    <tr>\n",
       "      <th>325</th>\n",
       "      <td>4931</td>\n",
       "      <td>1977</td>\n",
       "      <td>Graduation</td>\n",
       "      <td>Cpl</td>\n",
       "      <td>1730</td>\n",
       "      <td>Together</td>\n",
       "      <td>157146.0</td>\n",
       "      <td>0</td>\n",
       "      <td>0</td>\n",
       "      <td>2013-04-29</td>\n",
       "      <td>...</td>\n",
       "      <td>0</td>\n",
       "      <td>0</td>\n",
       "      <td>0</td>\n",
       "      <td>0</td>\n",
       "      <td>0</td>\n",
       "      <td>0</td>\n",
       "      <td>0</td>\n",
       "      <td>SA</td>\n",
       "      <td>47.0</td>\n",
       "      <td>0</td>\n",
       "    </tr>\n",
       "    <tr>\n",
       "      <th>497</th>\n",
       "      <td>1501</td>\n",
       "      <td>1982</td>\n",
       "      <td>PhD</td>\n",
       "      <td>Cpl</td>\n",
       "      <td>1717</td>\n",
       "      <td>Married</td>\n",
       "      <td>160803.0</td>\n",
       "      <td>0</td>\n",
       "      <td>0</td>\n",
       "      <td>2012-08-04</td>\n",
       "      <td>...</td>\n",
       "      <td>0</td>\n",
       "      <td>0</td>\n",
       "      <td>0</td>\n",
       "      <td>0</td>\n",
       "      <td>0</td>\n",
       "      <td>0</td>\n",
       "      <td>0</td>\n",
       "      <td>US</td>\n",
       "      <td>42.0</td>\n",
       "      <td>0</td>\n",
       "    </tr>\n",
       "    <tr>\n",
       "      <th>527</th>\n",
       "      <td>9432</td>\n",
       "      <td>1977</td>\n",
       "      <td>Graduation</td>\n",
       "      <td>Cpl</td>\n",
       "      <td>62</td>\n",
       "      <td>Together</td>\n",
       "      <td>666666.0</td>\n",
       "      <td>1</td>\n",
       "      <td>0</td>\n",
       "      <td>2013-06-02</td>\n",
       "      <td>...</td>\n",
       "      <td>0</td>\n",
       "      <td>0</td>\n",
       "      <td>0</td>\n",
       "      <td>0</td>\n",
       "      <td>0</td>\n",
       "      <td>0</td>\n",
       "      <td>0</td>\n",
       "      <td>SA</td>\n",
       "      <td>47.0</td>\n",
       "      <td>1</td>\n",
       "    </tr>\n",
       "    <tr>\n",
       "      <th>731</th>\n",
       "      <td>1503</td>\n",
       "      <td>1976</td>\n",
       "      <td>PhD</td>\n",
       "      <td>Cpl</td>\n",
       "      <td>107</td>\n",
       "      <td>Together</td>\n",
       "      <td>162397.0</td>\n",
       "      <td>1</td>\n",
       "      <td>1</td>\n",
       "      <td>2013-06-03</td>\n",
       "      <td>...</td>\n",
       "      <td>0</td>\n",
       "      <td>0</td>\n",
       "      <td>0</td>\n",
       "      <td>0</td>\n",
       "      <td>0</td>\n",
       "      <td>0</td>\n",
       "      <td>0</td>\n",
       "      <td>SP</td>\n",
       "      <td>48.0</td>\n",
       "      <td>2</td>\n",
       "    </tr>\n",
       "    <tr>\n",
       "      <th>853</th>\n",
       "      <td>5336</td>\n",
       "      <td>1971</td>\n",
       "      <td>Master</td>\n",
       "      <td>Cpl</td>\n",
       "      <td>59</td>\n",
       "      <td>Together</td>\n",
       "      <td>157733.0</td>\n",
       "      <td>1</td>\n",
       "      <td>0</td>\n",
       "      <td>2013-06-04</td>\n",
       "      <td>...</td>\n",
       "      <td>0</td>\n",
       "      <td>0</td>\n",
       "      <td>0</td>\n",
       "      <td>0</td>\n",
       "      <td>0</td>\n",
       "      <td>0</td>\n",
       "      <td>0</td>\n",
       "      <td>SP</td>\n",
       "      <td>53.0</td>\n",
       "      <td>1</td>\n",
       "    </tr>\n",
       "    <tr>\n",
       "      <th>1826</th>\n",
       "      <td>5555</td>\n",
       "      <td>1975</td>\n",
       "      <td>Graduation</td>\n",
       "      <td>Sgl</td>\n",
       "      <td>6</td>\n",
       "      <td>Divorced</td>\n",
       "      <td>153924.0</td>\n",
       "      <td>0</td>\n",
       "      <td>0</td>\n",
       "      <td>2014-02-07</td>\n",
       "      <td>...</td>\n",
       "      <td>0</td>\n",
       "      <td>0</td>\n",
       "      <td>0</td>\n",
       "      <td>0</td>\n",
       "      <td>0</td>\n",
       "      <td>0</td>\n",
       "      <td>0</td>\n",
       "      <td>SP</td>\n",
       "      <td>49.0</td>\n",
       "      <td>0</td>\n",
       "    </tr>\n",
       "    <tr>\n",
       "      <th>1925</th>\n",
       "      <td>11181</td>\n",
       "      <td>1949</td>\n",
       "      <td>PhD</td>\n",
       "      <td>Cpl</td>\n",
       "      <td>8</td>\n",
       "      <td>Married</td>\n",
       "      <td>156924.0</td>\n",
       "      <td>0</td>\n",
       "      <td>0</td>\n",
       "      <td>2013-08-29</td>\n",
       "      <td>...</td>\n",
       "      <td>0</td>\n",
       "      <td>0</td>\n",
       "      <td>0</td>\n",
       "      <td>0</td>\n",
       "      <td>0</td>\n",
       "      <td>0</td>\n",
       "      <td>0</td>\n",
       "      <td>CA</td>\n",
       "      <td>75.0</td>\n",
       "      <td>0</td>\n",
       "    </tr>\n",
       "    <tr>\n",
       "      <th>2204</th>\n",
       "      <td>8475</td>\n",
       "      <td>1973</td>\n",
       "      <td>PhD</td>\n",
       "      <td>Cpl</td>\n",
       "      <td>1608</td>\n",
       "      <td>Married</td>\n",
       "      <td>157243.0</td>\n",
       "      <td>0</td>\n",
       "      <td>1</td>\n",
       "      <td>2014-03-01</td>\n",
       "      <td>...</td>\n",
       "      <td>0</td>\n",
       "      <td>0</td>\n",
       "      <td>0</td>\n",
       "      <td>0</td>\n",
       "      <td>0</td>\n",
       "      <td>0</td>\n",
       "      <td>0</td>\n",
       "      <td>IND</td>\n",
       "      <td>51.0</td>\n",
       "      <td>1</td>\n",
       "    </tr>\n",
       "  </tbody>\n",
       "</table>\n",
       "<p>8 rows × 32 columns</p>\n",
       "</div>"
      ],
      "text/plain": [
       "         ID  Year_Birth   Education Mcat  TExpenditure Marital_Status  \\\n",
       "325    4931        1977  Graduation  Cpl          1730       Together   \n",
       "497    1501        1982         PhD  Cpl          1717        Married   \n",
       "527    9432        1977  Graduation  Cpl            62       Together   \n",
       "731    1503        1976         PhD  Cpl           107       Together   \n",
       "853    5336        1971      Master  Cpl            59       Together   \n",
       "1826   5555        1975  Graduation  Sgl             6       Divorced   \n",
       "1925  11181        1949         PhD  Cpl             8        Married   \n",
       "2204   8475        1973         PhD  Cpl          1608        Married   \n",
       "\n",
       "        Income  Kidhome  Teenhome Dt_Customer  ...  AcceptedCmp3  \\\n",
       "325   157146.0        0         0  2013-04-29  ...             0   \n",
       "497   160803.0        0         0  2012-08-04  ...             0   \n",
       "527   666666.0        1         0  2013-06-02  ...             0   \n",
       "731   162397.0        1         1  2013-06-03  ...             0   \n",
       "853   157733.0        1         0  2013-06-04  ...             0   \n",
       "1826  153924.0        0         0  2014-02-07  ...             0   \n",
       "1925  156924.0        0         0  2013-08-29  ...             0   \n",
       "2204  157243.0        0         1  2014-03-01  ...             0   \n",
       "\n",
       "      AcceptedCmp4  AcceptedCmp5  AcceptedCmp1  AcceptedCmp2  Response  \\\n",
       "325              0             0             0             0         0   \n",
       "497              0             0             0             0         0   \n",
       "527              0             0             0             0         0   \n",
       "731              0             0             0             0         0   \n",
       "853              0             0             0             0         0   \n",
       "1826             0             0             0             0         0   \n",
       "1925             0             0             0             0         0   \n",
       "2204             0             0             0             0         0   \n",
       "\n",
       "      Complain  Country   Age  Children  \n",
       "325          0       SA  47.0         0  \n",
       "497          0       US  42.0         0  \n",
       "527          0       SA  47.0         1  \n",
       "731          0       SP  48.0         2  \n",
       "853          0       SP  53.0         1  \n",
       "1826         0       SP  49.0         0  \n",
       "1925         0       CA  75.0         0  \n",
       "2204         0      IND  51.0         1  \n",
       "\n",
       "[8 rows x 32 columns]"
      ]
     },
     "execution_count": 144,
     "metadata": {},
     "output_type": "execute_result"
    }
   ],
   "source": [
    "#identify_outlier(field=mkt_data['Income'])\n",
    "\n",
    "Q1 = mkt_data.Income.quantile(0.25)\n",
    "Q3 = mkt_data.Income.quantile(0.75)\n",
    "IQR = Q3 - Q1\n",
    "lower_bound = Q1 - 1.5 * IQR\n",
    "upper_bound = Q3 + 1.5 * IQR\n",
    "outliers = mkt_data[(mkt_data['Income'] < lower_bound) | (mkt_data['Income'] > upper_bound)]\n",
    "\n",
    "print(\"Displaying potential Outliers in Income: \")\n",
    "print()\n",
    "outliers"
   ]
  },
  {
   "cell_type": "code",
   "execution_count": 145,
   "id": "5cd8670e-5d46-42b7-8dfc-cb689388a646",
   "metadata": {
    "tags": []
   },
   "outputs": [
    {
     "name": "stdout",
     "output_type": "stream",
     "text": [
      "Mean Value of income:  52253.14923214286\n"
     ]
    }
   ],
   "source": [
    "# Identifying Mean Income\n",
    "\n",
    "print(\"Mean Value of income: \",mkt_data.Income.mean())"
   ]
  },
  {
   "cell_type": "code",
   "execution_count": 146,
   "id": "3c1feb5d-bcb2-49eb-87f6-25eacdd5c539",
   "metadata": {
    "tags": []
   },
   "outputs": [],
   "source": [
    "mkt_data['Income'] = mkt_data['Income'].apply(lambda x: upper_bound if x > upper_bound else (lower_bound if x < lower_bound else x))"
   ]
  },
  {
   "cell_type": "code",
   "execution_count": 147,
   "id": "5f54f2e5-279c-498e-bd07-f8c247ea1faf",
   "metadata": {
    "tags": []
   },
   "outputs": [],
   "source": [
    "outliers = mkt_data[(mkt_data['Income'] < lower_bound) | (mkt_data['Income'] > upper_bound)]"
   ]
  },
  {
   "cell_type": "code",
   "execution_count": 148,
   "id": "c9fcbfb7-0776-4666-9e00-808c187a8283",
   "metadata": {
    "tags": []
   },
   "outputs": [
    {
     "data": {
      "text/html": [
       "<div>\n",
       "<style scoped>\n",
       "    .dataframe tbody tr th:only-of-type {\n",
       "        vertical-align: middle;\n",
       "    }\n",
       "\n",
       "    .dataframe tbody tr th {\n",
       "        vertical-align: top;\n",
       "    }\n",
       "\n",
       "    .dataframe thead th {\n",
       "        text-align: right;\n",
       "    }\n",
       "</style>\n",
       "<table border=\"1\" class=\"dataframe\">\n",
       "  <thead>\n",
       "    <tr style=\"text-align: right;\">\n",
       "      <th></th>\n",
       "      <th>ID</th>\n",
       "      <th>Year_Birth</th>\n",
       "      <th>Education</th>\n",
       "      <th>Mcat</th>\n",
       "      <th>TExpenditure</th>\n",
       "      <th>Marital_Status</th>\n",
       "      <th>Income</th>\n",
       "      <th>Kidhome</th>\n",
       "      <th>Teenhome</th>\n",
       "      <th>Dt_Customer</th>\n",
       "      <th>...</th>\n",
       "      <th>AcceptedCmp3</th>\n",
       "      <th>AcceptedCmp4</th>\n",
       "      <th>AcceptedCmp5</th>\n",
       "      <th>AcceptedCmp1</th>\n",
       "      <th>AcceptedCmp2</th>\n",
       "      <th>Response</th>\n",
       "      <th>Complain</th>\n",
       "      <th>Country</th>\n",
       "      <th>Age</th>\n",
       "      <th>Children</th>\n",
       "    </tr>\n",
       "  </thead>\n",
       "  <tbody>\n",
       "  </tbody>\n",
       "</table>\n",
       "<p>0 rows × 32 columns</p>\n",
       "</div>"
      ],
      "text/plain": [
       "Empty DataFrame\n",
       "Columns: [ID, Year_Birth, Education, Mcat, TExpenditure, Marital_Status, Income, Kidhome, Teenhome, Dt_Customer, Recency, MntWines, MntFruits, MntMeatProducts, MntFishProducts, MntSweetProducts, MntGoldProds, NumDealsPurchases, NumWebPurchases, NumCatalogPurchases, NumStorePurchases, NumWebVisitsMonth, AcceptedCmp3, AcceptedCmp4, AcceptedCmp5, AcceptedCmp1, AcceptedCmp2, Response, Complain, Country, Age, Children]\n",
       "Index: []\n",
       "\n",
       "[0 rows x 32 columns]"
      ]
     },
     "execution_count": 148,
     "metadata": {},
     "output_type": "execute_result"
    }
   ],
   "source": [
    "outliers"
   ]
  },
  {
   "cell_type": "code",
   "execution_count": 149,
   "id": "b570e42d-4e38-49fd-b963-84960280d507",
   "metadata": {
    "tags": []
   },
   "outputs": [
    {
     "name": "stdout",
     "output_type": "stream",
     "text": [
      "Updated Mean of income:  51881.04833928571\n"
     ]
    }
   ],
   "source": [
    "print(\"Updated Mean of income: \",mkt_data.Income.mean())"
   ]
  },
  {
   "cell_type": "code",
   "execution_count": 150,
   "id": "372a4b9f-c0e0-4af1-9ad3-3c597fc9d752",
   "metadata": {
    "tags": []
   },
   "outputs": [
    {
     "data": {
      "image/png": "[encoded data removed]",
      "text/plain": [
       "<Figure size 800x600 with 1 Axes>"
      ]
     },
     "metadata": {},
     "output_type": "display_data"
    }
   ],
   "source": [
    "# Updated Box Plot\n",
    "\n",
    "plt.figure(figsize=(8, 6))\n",
    "plt.boxplot(mkt_data['Income'], vert=False)\n",
    "plt.title('Box Plot - Salary')\n",
    "plt.xlabel('Income')\n",
    "plt.show()"
   ]
  },
  {
   "cell_type": "markdown",
   "id": "29f1fb16-b296-4fa4-8108-3d9e599b1444",
   "metadata": {},
   "source": [
    "## (E) CATEGORICAL VARIABLES"
   ]
  },
  {
   "cell_type": "code",
   "execution_count": 108,
   "id": "e968f1a3-b3f4-4051-a7a3-1fb23f039128",
   "metadata": {},
   "outputs": [],
   "source": [
    "# Here we are considering case of Education, Marital Status and Country"
   ]
  },
  {
   "cell_type": "markdown",
   "id": "6463bb10-05ac-4ee1-9ba6-b2e1abba7dda",
   "metadata": {
    "tags": []
   },
   "source": [
    "## 1. Dealing with Country"
   ]
  },
  {
   "cell_type": "code",
   "execution_count": 151,
   "id": "68f813c2-3ca2-4ecb-88e7-c9700f0f040d",
   "metadata": {
    "tags": []
   },
   "outputs": [],
   "source": [
    "# Creating dummy variables for Country\n",
    "\n",
    "mkt_encoded = pd.get_dummies(mkt_data, columns = ['Country'], dtype='int', prefix = 'Con')"
   ]
  },
  {
   "cell_type": "code",
   "execution_count": 152,
   "id": "96d04db2-0476-4388-8a97-30f6c2ad1445",
   "metadata": {
    "tags": []
   },
   "outputs": [
    {
     "data": {
      "text/html": [
       "<div>\n",
       "<style scoped>\n",
       "    .dataframe tbody tr th:only-of-type {\n",
       "        vertical-align: middle;\n",
       "    }\n",
       "\n",
       "    .dataframe tbody tr th {\n",
       "        vertical-align: top;\n",
       "    }\n",
       "\n",
       "    .dataframe thead th {\n",
       "        text-align: right;\n",
       "    }\n",
       "</style>\n",
       "<table border=\"1\" class=\"dataframe\">\n",
       "  <thead>\n",
       "    <tr style=\"text-align: right;\">\n",
       "      <th></th>\n",
       "      <th>ID</th>\n",
       "      <th>Year_Birth</th>\n",
       "      <th>Education</th>\n",
       "      <th>Mcat</th>\n",
       "      <th>TExpenditure</th>\n",
       "      <th>Marital_Status</th>\n",
       "      <th>Income</th>\n",
       "      <th>Kidhome</th>\n",
       "      <th>Teenhome</th>\n",
       "      <th>Dt_Customer</th>\n",
       "      <th>...</th>\n",
       "      <th>Age</th>\n",
       "      <th>Children</th>\n",
       "      <th>Con_AUS</th>\n",
       "      <th>Con_CA</th>\n",
       "      <th>Con_GER</th>\n",
       "      <th>Con_IND</th>\n",
       "      <th>Con_ME</th>\n",
       "      <th>Con_SA</th>\n",
       "      <th>Con_SP</th>\n",
       "      <th>Con_US</th>\n",
       "    </tr>\n",
       "  </thead>\n",
       "  <tbody>\n",
       "    <tr>\n",
       "      <th>0</th>\n",
       "      <td>1826</td>\n",
       "      <td>1970</td>\n",
       "      <td>Graduation</td>\n",
       "      <td>Sgl</td>\n",
       "      <td>1190</td>\n",
       "      <td>Divorced</td>\n",
       "      <td>84835.0</td>\n",
       "      <td>0</td>\n",
       "      <td>0</td>\n",
       "      <td>2014-06-16</td>\n",
       "      <td>...</td>\n",
       "      <td>54.0</td>\n",
       "      <td>0</td>\n",
       "      <td>0</td>\n",
       "      <td>0</td>\n",
       "      <td>0</td>\n",
       "      <td>0</td>\n",
       "      <td>0</td>\n",
       "      <td>0</td>\n",
       "      <td>1</td>\n",
       "      <td>0</td>\n",
       "    </tr>\n",
       "    <tr>\n",
       "      <th>1</th>\n",
       "      <td>1</td>\n",
       "      <td>1961</td>\n",
       "      <td>Graduation</td>\n",
       "      <td>Sgl</td>\n",
       "      <td>577</td>\n",
       "      <td>Single</td>\n",
       "      <td>57091.0</td>\n",
       "      <td>0</td>\n",
       "      <td>0</td>\n",
       "      <td>2014-06-15</td>\n",
       "      <td>...</td>\n",
       "      <td>63.0</td>\n",
       "      <td>0</td>\n",
       "      <td>0</td>\n",
       "      <td>1</td>\n",
       "      <td>0</td>\n",
       "      <td>0</td>\n",
       "      <td>0</td>\n",
       "      <td>0</td>\n",
       "      <td>0</td>\n",
       "      <td>0</td>\n",
       "    </tr>\n",
       "    <tr>\n",
       "      <th>2</th>\n",
       "      <td>10476</td>\n",
       "      <td>1958</td>\n",
       "      <td>Graduation</td>\n",
       "      <td>Cpl</td>\n",
       "      <td>251</td>\n",
       "      <td>Married</td>\n",
       "      <td>67267.0</td>\n",
       "      <td>0</td>\n",
       "      <td>1</td>\n",
       "      <td>2014-05-13</td>\n",
       "      <td>...</td>\n",
       "      <td>66.0</td>\n",
       "      <td>1</td>\n",
       "      <td>0</td>\n",
       "      <td>0</td>\n",
       "      <td>0</td>\n",
       "      <td>0</td>\n",
       "      <td>0</td>\n",
       "      <td>0</td>\n",
       "      <td>0</td>\n",
       "      <td>1</td>\n",
       "    </tr>\n",
       "    <tr>\n",
       "      <th>3</th>\n",
       "      <td>1386</td>\n",
       "      <td>1967</td>\n",
       "      <td>Graduation</td>\n",
       "      <td>Cpl</td>\n",
       "      <td>11</td>\n",
       "      <td>Together</td>\n",
       "      <td>32474.0</td>\n",
       "      <td>1</td>\n",
       "      <td>1</td>\n",
       "      <td>2014-05-11</td>\n",
       "      <td>...</td>\n",
       "      <td>57.0</td>\n",
       "      <td>2</td>\n",
       "      <td>1</td>\n",
       "      <td>0</td>\n",
       "      <td>0</td>\n",
       "      <td>0</td>\n",
       "      <td>0</td>\n",
       "      <td>0</td>\n",
       "      <td>0</td>\n",
       "      <td>0</td>\n",
       "    </tr>\n",
       "    <tr>\n",
       "      <th>4</th>\n",
       "      <td>5371</td>\n",
       "      <td>1989</td>\n",
       "      <td>Graduation</td>\n",
       "      <td>Sgl</td>\n",
       "      <td>91</td>\n",
       "      <td>Single</td>\n",
       "      <td>21474.0</td>\n",
       "      <td>1</td>\n",
       "      <td>0</td>\n",
       "      <td>2014-04-08</td>\n",
       "      <td>...</td>\n",
       "      <td>35.0</td>\n",
       "      <td>1</td>\n",
       "      <td>0</td>\n",
       "      <td>0</td>\n",
       "      <td>0</td>\n",
       "      <td>0</td>\n",
       "      <td>0</td>\n",
       "      <td>0</td>\n",
       "      <td>1</td>\n",
       "      <td>0</td>\n",
       "    </tr>\n",
       "    <tr>\n",
       "      <th>...</th>\n",
       "      <td>...</td>\n",
       "      <td>...</td>\n",
       "      <td>...</td>\n",
       "      <td>...</td>\n",
       "      <td>...</td>\n",
       "      <td>...</td>\n",
       "      <td>...</td>\n",
       "      <td>...</td>\n",
       "      <td>...</td>\n",
       "      <td>...</td>\n",
       "      <td>...</td>\n",
       "      <td>...</td>\n",
       "      <td>...</td>\n",
       "      <td>...</td>\n",
       "      <td>...</td>\n",
       "      <td>...</td>\n",
       "      <td>...</td>\n",
       "      <td>...</td>\n",
       "      <td>...</td>\n",
       "      <td>...</td>\n",
       "      <td>...</td>\n",
       "    </tr>\n",
       "    <tr>\n",
       "      <th>2235</th>\n",
       "      <td>10142</td>\n",
       "      <td>1976</td>\n",
       "      <td>PhD</td>\n",
       "      <td>Sgl</td>\n",
       "      <td>689</td>\n",
       "      <td>Divorced</td>\n",
       "      <td>66476.0</td>\n",
       "      <td>0</td>\n",
       "      <td>1</td>\n",
       "      <td>2013-03-07</td>\n",
       "      <td>...</td>\n",
       "      <td>48.0</td>\n",
       "      <td>1</td>\n",
       "      <td>0</td>\n",
       "      <td>0</td>\n",
       "      <td>0</td>\n",
       "      <td>0</td>\n",
       "      <td>0</td>\n",
       "      <td>0</td>\n",
       "      <td>0</td>\n",
       "      <td>1</td>\n",
       "    </tr>\n",
       "    <tr>\n",
       "      <th>2236</th>\n",
       "      <td>5263</td>\n",
       "      <td>1977</td>\n",
       "      <td>2n Cycle</td>\n",
       "      <td>Cpl</td>\n",
       "      <td>55</td>\n",
       "      <td>Married</td>\n",
       "      <td>31056.0</td>\n",
       "      <td>1</td>\n",
       "      <td>0</td>\n",
       "      <td>2013-01-22</td>\n",
       "      <td>...</td>\n",
       "      <td>47.0</td>\n",
       "      <td>1</td>\n",
       "      <td>0</td>\n",
       "      <td>0</td>\n",
       "      <td>0</td>\n",
       "      <td>0</td>\n",
       "      <td>0</td>\n",
       "      <td>0</td>\n",
       "      <td>1</td>\n",
       "      <td>0</td>\n",
       "    </tr>\n",
       "    <tr>\n",
       "      <th>2237</th>\n",
       "      <td>22</td>\n",
       "      <td>1976</td>\n",
       "      <td>Graduation</td>\n",
       "      <td>Sgl</td>\n",
       "      <td>309</td>\n",
       "      <td>Divorced</td>\n",
       "      <td>46310.0</td>\n",
       "      <td>1</td>\n",
       "      <td>0</td>\n",
       "      <td>2012-12-03</td>\n",
       "      <td>...</td>\n",
       "      <td>48.0</td>\n",
       "      <td>1</td>\n",
       "      <td>0</td>\n",
       "      <td>0</td>\n",
       "      <td>0</td>\n",
       "      <td>0</td>\n",
       "      <td>0</td>\n",
       "      <td>0</td>\n",
       "      <td>1</td>\n",
       "      <td>0</td>\n",
       "    </tr>\n",
       "    <tr>\n",
       "      <th>2238</th>\n",
       "      <td>528</td>\n",
       "      <td>1978</td>\n",
       "      <td>Graduation</td>\n",
       "      <td>Cpl</td>\n",
       "      <td>1383</td>\n",
       "      <td>Married</td>\n",
       "      <td>65819.0</td>\n",
       "      <td>0</td>\n",
       "      <td>0</td>\n",
       "      <td>2012-11-29</td>\n",
       "      <td>...</td>\n",
       "      <td>46.0</td>\n",
       "      <td>0</td>\n",
       "      <td>0</td>\n",
       "      <td>0</td>\n",
       "      <td>0</td>\n",
       "      <td>1</td>\n",
       "      <td>0</td>\n",
       "      <td>0</td>\n",
       "      <td>0</td>\n",
       "      <td>0</td>\n",
       "    </tr>\n",
       "    <tr>\n",
       "      <th>2239</th>\n",
       "      <td>4070</td>\n",
       "      <td>1969</td>\n",
       "      <td>PhD</td>\n",
       "      <td>Cpl</td>\n",
       "      <td>1078</td>\n",
       "      <td>Married</td>\n",
       "      <td>94871.0</td>\n",
       "      <td>0</td>\n",
       "      <td>2</td>\n",
       "      <td>2012-09-01</td>\n",
       "      <td>...</td>\n",
       "      <td>55.0</td>\n",
       "      <td>2</td>\n",
       "      <td>0</td>\n",
       "      <td>1</td>\n",
       "      <td>0</td>\n",
       "      <td>0</td>\n",
       "      <td>0</td>\n",
       "      <td>0</td>\n",
       "      <td>0</td>\n",
       "      <td>0</td>\n",
       "    </tr>\n",
       "  </tbody>\n",
       "</table>\n",
       "<p>2240 rows × 39 columns</p>\n",
       "</div>"
      ],
      "text/plain": [
       "         ID  Year_Birth   Education Mcat  TExpenditure Marital_Status  \\\n",
       "0      1826        1970  Graduation  Sgl          1190       Divorced   \n",
       "1         1        1961  Graduation  Sgl           577         Single   \n",
       "2     10476        1958  Graduation  Cpl           251        Married   \n",
       "3      1386        1967  Graduation  Cpl            11       Together   \n",
       "4      5371        1989  Graduation  Sgl            91         Single   \n",
       "...     ...         ...         ...  ...           ...            ...   \n",
       "2235  10142        1976         PhD  Sgl           689       Divorced   \n",
       "2236   5263        1977    2n Cycle  Cpl            55        Married   \n",
       "2237     22        1976  Graduation  Sgl           309       Divorced   \n",
       "2238    528        1978  Graduation  Cpl          1383        Married   \n",
       "2239   4070        1969         PhD  Cpl          1078        Married   \n",
       "\n",
       "       Income  Kidhome  Teenhome Dt_Customer  ...   Age  Children  Con_AUS  \\\n",
       "0     84835.0        0         0  2014-06-16  ...  54.0         0        0   \n",
       "1     57091.0        0         0  2014-06-15  ...  63.0         0        0   \n",
       "2     67267.0        0         1  2014-05-13  ...  66.0         1        0   \n",
       "3     32474.0        1         1  2014-05-11  ...  57.0         2        1   \n",
       "4     21474.0        1         0  2014-04-08  ...  35.0         1        0   \n",
       "...       ...      ...       ...         ...  ...   ...       ...      ...   \n",
       "2235  66476.0        0         1  2013-03-07  ...  48.0         1        0   \n",
       "2236  31056.0        1         0  2013-01-22  ...  47.0         1        0   \n",
       "2237  46310.0        1         0  2012-12-03  ...  48.0         1        0   \n",
       "2238  65819.0        0         0  2012-11-29  ...  46.0         0        0   \n",
       "2239  94871.0        0         2  2012-09-01  ...  55.0         2        0   \n",
       "\n",
       "      Con_CA  Con_GER  Con_IND  Con_ME  Con_SA  Con_SP  Con_US  \n",
       "0          0        0        0       0       0       1       0  \n",
       "1          1        0        0       0       0       0       0  \n",
       "2          0        0        0       0       0       0       1  \n",
       "3          0        0        0       0       0       0       0  \n",
       "4          0        0        0       0       0       1       0  \n",
       "...      ...      ...      ...     ...     ...     ...     ...  \n",
       "2235       0        0        0       0       0       0       1  \n",
       "2236       0        0        0       0       0       1       0  \n",
       "2237       0        0        0       0       0       1       0  \n",
       "2238       0        0        1       0       0       0       0  \n",
       "2239       1        0        0       0       0       0       0  \n",
       "\n",
       "[2240 rows x 39 columns]"
      ]
     },
     "execution_count": 152,
     "metadata": {},
     "output_type": "execute_result"
    }
   ],
   "source": [
    "#mkt_data = pd.concat([mkt_data, mkt_encoded], axis = 1)\n",
    "mkt_encoded"
   ]
  },
  {
   "cell_type": "markdown",
   "id": "9811b7e6-e395-4184-bc4b-0d253396c4f1",
   "metadata": {},
   "source": [
    "## 2. Dealing with OrdinalEncoding for Education"
   ]
  },
  {
   "cell_type": "code",
   "execution_count": 157,
   "id": "e75e40ee-15d7-43a7-aa71-61dd0d3f684a",
   "metadata": {
    "tags": []
   },
   "outputs": [
    {
     "name": "stdout",
     "output_type": "stream",
     "text": [
      "Unique fields of Education:  ['Graduation' 'PhD' '2n Cycle' 'Master' 'Basic']\n"
     ]
    }
   ],
   "source": [
    "# Assuming Priority Value of Educational Category as below:\n",
    "\n",
    "# 1 -> Basic\n",
    "# 2 -> 2n Cycle\n",
    "# 3 -> Graduation\n",
    "# 4 -> Master\n",
    "# 5 -> PhD\n",
    "\n",
    "print(\"Unique fields of Education: \",mkt_data.Education.unique())"
   ]
  },
  {
   "cell_type": "code",
   "execution_count": 158,
   "id": "b2d588e2-8443-4649-b23d-5c952531f51a",
   "metadata": {
    "tags": []
   },
   "outputs": [],
   "source": [
    "# Encoding values as per above assumption\n",
    "\n",
    "oe = OrdinalEncoder(categories=[['Basic', '2n Cycle', 'Graduation', 'Master', 'PhD']])"
   ]
  },
  {
   "cell_type": "code",
   "execution_count": 159,
   "id": "df72066d-e5a0-4514-a858-d9af12b2fe07",
   "metadata": {
    "tags": []
   },
   "outputs": [],
   "source": [
    "# Adding a column of Educational Priority value k/a Ed_Priority\n",
    "\n",
    "mkt_data.insert(loc=3, column = 'Ed_Priority', value = pd.DataFrame(oe.fit_transform(mkt_data[['Education']])))"
   ]
  },
  {
   "cell_type": "code",
   "execution_count": 160,
   "id": "4b34b27e-50a5-4d2a-85cf-1caf783cf74d",
   "metadata": {
    "tags": []
   },
   "outputs": [
    {
     "name": "stdout",
     "output_type": "stream",
     "text": [
      "Displaying newly added encoded category\n",
      "\n"
     ]
    },
    {
     "data": {
      "text/html": [
       "<div>\n",
       "<style scoped>\n",
       "    .dataframe tbody tr th:only-of-type {\n",
       "        vertical-align: middle;\n",
       "    }\n",
       "\n",
       "    .dataframe tbody tr th {\n",
       "        vertical-align: top;\n",
       "    }\n",
       "\n",
       "    .dataframe thead th {\n",
       "        text-align: right;\n",
       "    }\n",
       "</style>\n",
       "<table border=\"1\" class=\"dataframe\">\n",
       "  <thead>\n",
       "    <tr style=\"text-align: right;\">\n",
       "      <th></th>\n",
       "      <th>ID</th>\n",
       "      <th>Year_Birth</th>\n",
       "      <th>Education</th>\n",
       "      <th>Ed_Priority</th>\n",
       "      <th>Mcat</th>\n",
       "      <th>TExpenditure</th>\n",
       "      <th>Marital_Status</th>\n",
       "      <th>Income</th>\n",
       "      <th>Kidhome</th>\n",
       "      <th>Teenhome</th>\n",
       "      <th>...</th>\n",
       "      <th>AcceptedCmp3</th>\n",
       "      <th>AcceptedCmp4</th>\n",
       "      <th>AcceptedCmp5</th>\n",
       "      <th>AcceptedCmp1</th>\n",
       "      <th>AcceptedCmp2</th>\n",
       "      <th>Response</th>\n",
       "      <th>Complain</th>\n",
       "      <th>Country</th>\n",
       "      <th>Age</th>\n",
       "      <th>Children</th>\n",
       "    </tr>\n",
       "  </thead>\n",
       "  <tbody>\n",
       "    <tr>\n",
       "      <th>0</th>\n",
       "      <td>1826</td>\n",
       "      <td>1970</td>\n",
       "      <td>Graduation</td>\n",
       "      <td>2.0</td>\n",
       "      <td>Sgl</td>\n",
       "      <td>1190</td>\n",
       "      <td>Divorced</td>\n",
       "      <td>84835.0</td>\n",
       "      <td>0</td>\n",
       "      <td>0</td>\n",
       "      <td>...</td>\n",
       "      <td>0</td>\n",
       "      <td>0</td>\n",
       "      <td>0</td>\n",
       "      <td>0</td>\n",
       "      <td>0</td>\n",
       "      <td>1</td>\n",
       "      <td>0</td>\n",
       "      <td>SP</td>\n",
       "      <td>54.0</td>\n",
       "      <td>0</td>\n",
       "    </tr>\n",
       "    <tr>\n",
       "      <th>1</th>\n",
       "      <td>1</td>\n",
       "      <td>1961</td>\n",
       "      <td>Graduation</td>\n",
       "      <td>2.0</td>\n",
       "      <td>Sgl</td>\n",
       "      <td>577</td>\n",
       "      <td>Single</td>\n",
       "      <td>57091.0</td>\n",
       "      <td>0</td>\n",
       "      <td>0</td>\n",
       "      <td>...</td>\n",
       "      <td>0</td>\n",
       "      <td>0</td>\n",
       "      <td>0</td>\n",
       "      <td>0</td>\n",
       "      <td>1</td>\n",
       "      <td>1</td>\n",
       "      <td>0</td>\n",
       "      <td>CA</td>\n",
       "      <td>63.0</td>\n",
       "      <td>0</td>\n",
       "    </tr>\n",
       "    <tr>\n",
       "      <th>2</th>\n",
       "      <td>10476</td>\n",
       "      <td>1958</td>\n",
       "      <td>Graduation</td>\n",
       "      <td>2.0</td>\n",
       "      <td>Cpl</td>\n",
       "      <td>251</td>\n",
       "      <td>Married</td>\n",
       "      <td>67267.0</td>\n",
       "      <td>0</td>\n",
       "      <td>1</td>\n",
       "      <td>...</td>\n",
       "      <td>0</td>\n",
       "      <td>0</td>\n",
       "      <td>0</td>\n",
       "      <td>0</td>\n",
       "      <td>0</td>\n",
       "      <td>0</td>\n",
       "      <td>0</td>\n",
       "      <td>US</td>\n",
       "      <td>66.0</td>\n",
       "      <td>1</td>\n",
       "    </tr>\n",
       "    <tr>\n",
       "      <th>3</th>\n",
       "      <td>1386</td>\n",
       "      <td>1967</td>\n",
       "      <td>Graduation</td>\n",
       "      <td>2.0</td>\n",
       "      <td>Cpl</td>\n",
       "      <td>11</td>\n",
       "      <td>Together</td>\n",
       "      <td>32474.0</td>\n",
       "      <td>1</td>\n",
       "      <td>1</td>\n",
       "      <td>...</td>\n",
       "      <td>0</td>\n",
       "      <td>0</td>\n",
       "      <td>0</td>\n",
       "      <td>0</td>\n",
       "      <td>0</td>\n",
       "      <td>0</td>\n",
       "      <td>0</td>\n",
       "      <td>AUS</td>\n",
       "      <td>57.0</td>\n",
       "      <td>2</td>\n",
       "    </tr>\n",
       "    <tr>\n",
       "      <th>4</th>\n",
       "      <td>5371</td>\n",
       "      <td>1989</td>\n",
       "      <td>Graduation</td>\n",
       "      <td>2.0</td>\n",
       "      <td>Sgl</td>\n",
       "      <td>91</td>\n",
       "      <td>Single</td>\n",
       "      <td>21474.0</td>\n",
       "      <td>1</td>\n",
       "      <td>0</td>\n",
       "      <td>...</td>\n",
       "      <td>1</td>\n",
       "      <td>0</td>\n",
       "      <td>0</td>\n",
       "      <td>0</td>\n",
       "      <td>0</td>\n",
       "      <td>1</td>\n",
       "      <td>0</td>\n",
       "      <td>SP</td>\n",
       "      <td>35.0</td>\n",
       "      <td>1</td>\n",
       "    </tr>\n",
       "  </tbody>\n",
       "</table>\n",
       "<p>5 rows × 33 columns</p>\n",
       "</div>"
      ],
      "text/plain": [
       "      ID  Year_Birth   Education  Ed_Priority Mcat  TExpenditure  \\\n",
       "0   1826        1970  Graduation          2.0  Sgl          1190   \n",
       "1      1        1961  Graduation          2.0  Sgl           577   \n",
       "2  10476        1958  Graduation          2.0  Cpl           251   \n",
       "3   1386        1967  Graduation          2.0  Cpl            11   \n",
       "4   5371        1989  Graduation          2.0  Sgl            91   \n",
       "\n",
       "  Marital_Status   Income  Kidhome  Teenhome  ... AcceptedCmp3  AcceptedCmp4  \\\n",
       "0       Divorced  84835.0        0         0  ...            0             0   \n",
       "1         Single  57091.0        0         0  ...            0             0   \n",
       "2        Married  67267.0        0         1  ...            0             0   \n",
       "3       Together  32474.0        1         1  ...            0             0   \n",
       "4         Single  21474.0        1         0  ...            1             0   \n",
       "\n",
       "   AcceptedCmp5  AcceptedCmp1  AcceptedCmp2  Response  Complain  Country  \\\n",
       "0             0             0             0         1         0       SP   \n",
       "1             0             0             1         1         0       CA   \n",
       "2             0             0             0         0         0       US   \n",
       "3             0             0             0         0         0      AUS   \n",
       "4             0             0             0         1         0       SP   \n",
       "\n",
       "    Age  Children  \n",
       "0  54.0         0  \n",
       "1  63.0         0  \n",
       "2  66.0         1  \n",
       "3  57.0         2  \n",
       "4  35.0         1  \n",
       "\n",
       "[5 rows x 33 columns]"
      ]
     },
     "execution_count": 160,
     "metadata": {},
     "output_type": "execute_result"
    }
   ],
   "source": [
    "print(\"Displaying newly added encoded category\")\n",
    "print()\n",
    "mkt_data.head()"
   ]
  },
  {
   "cell_type": "markdown",
   "id": "a0c9ac93-0991-488d-984a-46e35fa263ac",
   "metadata": {},
   "source": [
    "## 3. Using One hot encoding for Marital Status"
   ]
  },
  {
   "cell_type": "code",
   "execution_count": 161,
   "id": "f8380337-41fb-4470-99ec-d01126cd24fe",
   "metadata": {
    "tags": []
   },
   "outputs": [
    {
     "name": "stdout",
     "output_type": "stream",
     "text": [
      "Unique fields of Marital Status:  ['Divorced' 'Single' 'Married' 'Together' 'Widow' 'YOLO' 'Alone' 'Absurd']\n"
     ]
    }
   ],
   "source": [
    "print(\"Unique fields of Marital Status: \", mkt_data.Marital_Status.unique())"
   ]
  },
  {
   "cell_type": "code",
   "execution_count": 162,
   "id": "305265df-4d4d-4abe-91d0-d6c965e74884",
   "metadata": {
    "tags": []
   },
   "outputs": [],
   "source": [
    "# Defining onehotencoder options\n",
    "\n",
    "OHE = OneHotEncoder(sparse_output=False)"
   ]
  },
  {
   "cell_type": "code",
   "execution_count": 163,
   "id": "3c334a5f-7eee-4d71-9c32-22b65a7837e5",
   "metadata": {
    "tags": []
   },
   "outputs": [],
   "source": [
    "# Generating a transformed one hot encoded output\n",
    "\n",
    "marital_status_encoded = OHE.fit_transform(mkt_data[['Marital_Status']])\n",
    "category_names = [category for category in OHE.get_feature_names_out(['Marital_Status'])]\n",
    "marital_status_cat = pd.DataFrame(marital_status_encoded, columns=category_names)"
   ]
  },
  {
   "cell_type": "code",
   "execution_count": 165,
   "id": "1bb175f5-8c23-45f5-b8f5-ccae0c9f6903",
   "metadata": {
    "tags": []
   },
   "outputs": [
    {
     "name": "stdout",
     "output_type": "stream",
     "text": [
      "Displaying One Hot encoded values for marital Status\n",
      "\n"
     ]
    },
    {
     "data": {
      "text/html": [
       "<div>\n",
       "<style scoped>\n",
       "    .dataframe tbody tr th:only-of-type {\n",
       "        vertical-align: middle;\n",
       "    }\n",
       "\n",
       "    .dataframe tbody tr th {\n",
       "        vertical-align: top;\n",
       "    }\n",
       "\n",
       "    .dataframe thead th {\n",
       "        text-align: right;\n",
       "    }\n",
       "</style>\n",
       "<table border=\"1\" class=\"dataframe\">\n",
       "  <thead>\n",
       "    <tr style=\"text-align: right;\">\n",
       "      <th></th>\n",
       "      <th>Marital_Status_Absurd</th>\n",
       "      <th>Marital_Status_Alone</th>\n",
       "      <th>Marital_Status_Divorced</th>\n",
       "      <th>Marital_Status_Married</th>\n",
       "      <th>Marital_Status_Single</th>\n",
       "      <th>Marital_Status_Together</th>\n",
       "      <th>Marital_Status_Widow</th>\n",
       "      <th>Marital_Status_YOLO</th>\n",
       "    </tr>\n",
       "  </thead>\n",
       "  <tbody>\n",
       "    <tr>\n",
       "      <th>0</th>\n",
       "      <td>0.0</td>\n",
       "      <td>0.0</td>\n",
       "      <td>1.0</td>\n",
       "      <td>0.0</td>\n",
       "      <td>0.0</td>\n",
       "      <td>0.0</td>\n",
       "      <td>0.0</td>\n",
       "      <td>0.0</td>\n",
       "    </tr>\n",
       "    <tr>\n",
       "      <th>1</th>\n",
       "      <td>0.0</td>\n",
       "      <td>0.0</td>\n",
       "      <td>0.0</td>\n",
       "      <td>0.0</td>\n",
       "      <td>1.0</td>\n",
       "      <td>0.0</td>\n",
       "      <td>0.0</td>\n",
       "      <td>0.0</td>\n",
       "    </tr>\n",
       "    <tr>\n",
       "      <th>2</th>\n",
       "      <td>0.0</td>\n",
       "      <td>0.0</td>\n",
       "      <td>0.0</td>\n",
       "      <td>1.0</td>\n",
       "      <td>0.0</td>\n",
       "      <td>0.0</td>\n",
       "      <td>0.0</td>\n",
       "      <td>0.0</td>\n",
       "    </tr>\n",
       "    <tr>\n",
       "      <th>3</th>\n",
       "      <td>0.0</td>\n",
       "      <td>0.0</td>\n",
       "      <td>0.0</td>\n",
       "      <td>0.0</td>\n",
       "      <td>0.0</td>\n",
       "      <td>1.0</td>\n",
       "      <td>0.0</td>\n",
       "      <td>0.0</td>\n",
       "    </tr>\n",
       "    <tr>\n",
       "      <th>4</th>\n",
       "      <td>0.0</td>\n",
       "      <td>0.0</td>\n",
       "      <td>0.0</td>\n",
       "      <td>0.0</td>\n",
       "      <td>1.0</td>\n",
       "      <td>0.0</td>\n",
       "      <td>0.0</td>\n",
       "      <td>0.0</td>\n",
       "    </tr>\n",
       "  </tbody>\n",
       "</table>\n",
       "</div>"
      ],
      "text/plain": [
       "   Marital_Status_Absurd  Marital_Status_Alone  Marital_Status_Divorced  \\\n",
       "0                    0.0                   0.0                      1.0   \n",
       "1                    0.0                   0.0                      0.0   \n",
       "2                    0.0                   0.0                      0.0   \n",
       "3                    0.0                   0.0                      0.0   \n",
       "4                    0.0                   0.0                      0.0   \n",
       "\n",
       "   Marital_Status_Married  Marital_Status_Single  Marital_Status_Together  \\\n",
       "0                     0.0                    0.0                      0.0   \n",
       "1                     0.0                    1.0                      0.0   \n",
       "2                     1.0                    0.0                      0.0   \n",
       "3                     0.0                    0.0                      1.0   \n",
       "4                     0.0                    1.0                      0.0   \n",
       "\n",
       "   Marital_Status_Widow  Marital_Status_YOLO  \n",
       "0                   0.0                  0.0  \n",
       "1                   0.0                  0.0  \n",
       "2                   0.0                  0.0  \n",
       "3                   0.0                  0.0  \n",
       "4                   0.0                  0.0  "
      ]
     },
     "execution_count": 165,
     "metadata": {},
     "output_type": "execute_result"
    }
   ],
   "source": [
    "print(\"Displaying One Hot encoded values for marital Status\")\n",
    "print()\n",
    "marital_status_cat.head()"
   ]
  },
  {
   "cell_type": "markdown",
   "id": "9ceeccf0-317f-4b0a-8edd-c916454758e7",
   "metadata": {
    "tags": []
   },
   "source": [
    "## (F) HEATMAP TO SHOW CORRELATION"
   ]
  },
  {
   "cell_type": "code",
   "execution_count": 167,
   "id": "2c0b40e4-be97-42d8-be0f-1fb33350f17b",
   "metadata": {
    "tags": []
   },
   "outputs": [
    {
     "name": "stdout",
     "output_type": "stream",
     "text": [
      "Displaying variables to selecty for Correlation: \n"
     ]
    },
    {
     "data": {
      "text/html": [
       "<div>\n",
       "<style scoped>\n",
       "    .dataframe tbody tr th:only-of-type {\n",
       "        vertical-align: middle;\n",
       "    }\n",
       "\n",
       "    .dataframe tbody tr th {\n",
       "        vertical-align: top;\n",
       "    }\n",
       "\n",
       "    .dataframe thead th {\n",
       "        text-align: right;\n",
       "    }\n",
       "</style>\n",
       "<table border=\"1\" class=\"dataframe\">\n",
       "  <thead>\n",
       "    <tr style=\"text-align: right;\">\n",
       "      <th></th>\n",
       "      <th>ID</th>\n",
       "      <th>Year_Birth</th>\n",
       "      <th>Education</th>\n",
       "      <th>Ed_Priority</th>\n",
       "      <th>Mcat</th>\n",
       "      <th>TExpenditure</th>\n",
       "      <th>Marital_Status</th>\n",
       "      <th>Income</th>\n",
       "      <th>Kidhome</th>\n",
       "      <th>Teenhome</th>\n",
       "      <th>...</th>\n",
       "      <th>AcceptedCmp3</th>\n",
       "      <th>AcceptedCmp4</th>\n",
       "      <th>AcceptedCmp5</th>\n",
       "      <th>AcceptedCmp1</th>\n",
       "      <th>AcceptedCmp2</th>\n",
       "      <th>Response</th>\n",
       "      <th>Complain</th>\n",
       "      <th>Country</th>\n",
       "      <th>Age</th>\n",
       "      <th>Children</th>\n",
       "    </tr>\n",
       "  </thead>\n",
       "  <tbody>\n",
       "    <tr>\n",
       "      <th>0</th>\n",
       "      <td>1826</td>\n",
       "      <td>1970</td>\n",
       "      <td>Graduation</td>\n",
       "      <td>2.0</td>\n",
       "      <td>Sgl</td>\n",
       "      <td>1190</td>\n",
       "      <td>Divorced</td>\n",
       "      <td>84835.0</td>\n",
       "      <td>0</td>\n",
       "      <td>0</td>\n",
       "      <td>...</td>\n",
       "      <td>0</td>\n",
       "      <td>0</td>\n",
       "      <td>0</td>\n",
       "      <td>0</td>\n",
       "      <td>0</td>\n",
       "      <td>1</td>\n",
       "      <td>0</td>\n",
       "      <td>SP</td>\n",
       "      <td>54.0</td>\n",
       "      <td>0</td>\n",
       "    </tr>\n",
       "    <tr>\n",
       "      <th>1</th>\n",
       "      <td>1</td>\n",
       "      <td>1961</td>\n",
       "      <td>Graduation</td>\n",
       "      <td>2.0</td>\n",
       "      <td>Sgl</td>\n",
       "      <td>577</td>\n",
       "      <td>Single</td>\n",
       "      <td>57091.0</td>\n",
       "      <td>0</td>\n",
       "      <td>0</td>\n",
       "      <td>...</td>\n",
       "      <td>0</td>\n",
       "      <td>0</td>\n",
       "      <td>0</td>\n",
       "      <td>0</td>\n",
       "      <td>1</td>\n",
       "      <td>1</td>\n",
       "      <td>0</td>\n",
       "      <td>CA</td>\n",
       "      <td>63.0</td>\n",
       "      <td>0</td>\n",
       "    </tr>\n",
       "    <tr>\n",
       "      <th>2</th>\n",
       "      <td>10476</td>\n",
       "      <td>1958</td>\n",
       "      <td>Graduation</td>\n",
       "      <td>2.0</td>\n",
       "      <td>Cpl</td>\n",
       "      <td>251</td>\n",
       "      <td>Married</td>\n",
       "      <td>67267.0</td>\n",
       "      <td>0</td>\n",
       "      <td>1</td>\n",
       "      <td>...</td>\n",
       "      <td>0</td>\n",
       "      <td>0</td>\n",
       "      <td>0</td>\n",
       "      <td>0</td>\n",
       "      <td>0</td>\n",
       "      <td>0</td>\n",
       "      <td>0</td>\n",
       "      <td>US</td>\n",
       "      <td>66.0</td>\n",
       "      <td>1</td>\n",
       "    </tr>\n",
       "    <tr>\n",
       "      <th>3</th>\n",
       "      <td>1386</td>\n",
       "      <td>1967</td>\n",
       "      <td>Graduation</td>\n",
       "      <td>2.0</td>\n",
       "      <td>Cpl</td>\n",
       "      <td>11</td>\n",
       "      <td>Together</td>\n",
       "      <td>32474.0</td>\n",
       "      <td>1</td>\n",
       "      <td>1</td>\n",
       "      <td>...</td>\n",
       "      <td>0</td>\n",
       "      <td>0</td>\n",
       "      <td>0</td>\n",
       "      <td>0</td>\n",
       "      <td>0</td>\n",
       "      <td>0</td>\n",
       "      <td>0</td>\n",
       "      <td>AUS</td>\n",
       "      <td>57.0</td>\n",
       "      <td>2</td>\n",
       "    </tr>\n",
       "    <tr>\n",
       "      <th>4</th>\n",
       "      <td>5371</td>\n",
       "      <td>1989</td>\n",
       "      <td>Graduation</td>\n",
       "      <td>2.0</td>\n",
       "      <td>Sgl</td>\n",
       "      <td>91</td>\n",
       "      <td>Single</td>\n",
       "      <td>21474.0</td>\n",
       "      <td>1</td>\n",
       "      <td>0</td>\n",
       "      <td>...</td>\n",
       "      <td>1</td>\n",
       "      <td>0</td>\n",
       "      <td>0</td>\n",
       "      <td>0</td>\n",
       "      <td>0</td>\n",
       "      <td>1</td>\n",
       "      <td>0</td>\n",
       "      <td>SP</td>\n",
       "      <td>35.0</td>\n",
       "      <td>1</td>\n",
       "    </tr>\n",
       "  </tbody>\n",
       "</table>\n",
       "<p>5 rows × 33 columns</p>\n",
       "</div>"
      ],
      "text/plain": [
       "      ID  Year_Birth   Education  Ed_Priority Mcat  TExpenditure  \\\n",
       "0   1826        1970  Graduation          2.0  Sgl          1190   \n",
       "1      1        1961  Graduation          2.0  Sgl           577   \n",
       "2  10476        1958  Graduation          2.0  Cpl           251   \n",
       "3   1386        1967  Graduation          2.0  Cpl            11   \n",
       "4   5371        1989  Graduation          2.0  Sgl            91   \n",
       "\n",
       "  Marital_Status   Income  Kidhome  Teenhome  ... AcceptedCmp3  AcceptedCmp4  \\\n",
       "0       Divorced  84835.0        0         0  ...            0             0   \n",
       "1         Single  57091.0        0         0  ...            0             0   \n",
       "2        Married  67267.0        0         1  ...            0             0   \n",
       "3       Together  32474.0        1         1  ...            0             0   \n",
       "4         Single  21474.0        1         0  ...            1             0   \n",
       "\n",
       "   AcceptedCmp5  AcceptedCmp1  AcceptedCmp2  Response  Complain  Country  \\\n",
       "0             0             0             0         1         0       SP   \n",
       "1             0             0             1         1         0       CA   \n",
       "2             0             0             0         0         0       US   \n",
       "3             0             0             0         0         0      AUS   \n",
       "4             0             0             0         1         0       SP   \n",
       "\n",
       "    Age  Children  \n",
       "0  54.0         0  \n",
       "1  63.0         0  \n",
       "2  66.0         1  \n",
       "3  57.0         2  \n",
       "4  35.0         1  \n",
       "\n",
       "[5 rows x 33 columns]"
      ]
     },
     "execution_count": 167,
     "metadata": {},
     "output_type": "execute_result"
    }
   ],
   "source": [
    "print(\"Displaying variables to selecty for Correlation: \")\n",
    "mkt_data.head()"
   ]
  },
  {
   "cell_type": "code",
   "execution_count": 168,
   "id": "c2ae0af0-c80b-401b-959b-eb4402a8945a",
   "metadata": {
    "tags": []
   },
   "outputs": [
    {
     "data": {
      "image/png": "[encoded data removed]",
      "text/plain": [
       "<Figure size 800x600 with 2 Axes>"
      ]
     },
     "metadata": {},
     "output_type": "display_data"
    },
    {
     "data": {
      "text/plain": [
       "<Figure size 640x480 with 0 Axes>"
      ]
     },
     "metadata": {},
     "output_type": "display_data"
    }
   ],
   "source": [
    "# Assumption - We are considering to find a correlation between Age, Income and Ed_priority using seaborn heatmap\n",
    "\n",
    "plt.figure(figsize=(8, 6))\n",
    "#sns.heatmap(mkt_data[['Age', 'Income','Ed_Priority']].corr(), cmap = 'Accent', annot = True)\n",
    "sns.heatmap(mkt_data[['Age', 'Income']].corr(), cmap = 'Accent', annot = True)\n",
    "plt.title('Correlation Heatmap between Income, Age & Education')\n",
    "plt.show()\n",
    "plt.savefig('corr.png')"
   ]
  },
  {
   "cell_type": "code",
   "execution_count": 170,
   "id": "42fc396c-225a-4b1a-9e69-a1495203ed61",
   "metadata": {
    "tags": []
   },
   "outputs": [
    {
     "name": "stdout",
     "output_type": "stream",
     "text": [
      "A scatter plot for above heatmap: \n"
     ]
    },
    {
     "data": {
      "text/plain": [
       "<Axes: xlabel='Age', ylabel='Income'>"
      ]
     },
     "execution_count": 170,
     "metadata": {},
     "output_type": "execute_result"
    },
    {
     "data": {
      "image/png": "[encoded data removed]",
      "text/plain": [
       "<Figure size 640x480 with 1 Axes>"
      ]
     },
     "metadata": {},
     "output_type": "display_data"
    }
   ],
   "source": [
    "print(\"A scatter plot for above heatmap: \")\n",
    "mkt_data.plot(kind = 'scatter', x = 'Age', y = 'Income')"
   ]
  },
  {
   "cell_type": "code",
   "execution_count": 171,
   "id": "d69edd3a-f471-4ed7-be15-10f57f374c96",
   "metadata": {
    "tags": []
   },
   "outputs": [
    {
     "data": {
      "image/png": "[encoded data removed]",
      "text/plain": [
       "<Figure size 800x600 with 2 Axes>"
      ]
     },
     "metadata": {},
     "output_type": "display_data"
    },
    {
     "data": {
      "text/plain": [
       "<Figure size 640x480 with 0 Axes>"
      ]
     },
     "metadata": {},
     "output_type": "display_data"
    }
   ],
   "source": [
    "# A heatmap between 3 variables\n",
    "\n",
    "plt.figure(figsize=(8, 6))\n",
    "sns.heatmap(mkt_data[['Age', 'Income','Ed_Priority']].corr(), cmap = 'Accent', annot = True)\n",
    "plt.title('Correlation Heatmap between Income, Age & Education')\n",
    "plt.show()\n",
    "plt.savefig('corr.png')"
   ]
  },
  {
   "cell_type": "markdown",
   "id": "cc2a99b6-a687-4412-bf9f-4e779e401524",
   "metadata": {},
   "source": [
    "## (G) HYPOTHESIS TESTSING"
   ]
  },
  {
   "cell_type": "markdown",
   "id": "1428261e-e865-41e8-8537-7c3b11d2e88d",
   "metadata": {},
   "source": [
    "### 1. Older people are not as tech-savvy and probably prefer shopping in-store."
   ]
  },
  {
   "cell_type": "code",
   "execution_count": 1,
   "id": "45184168-2af7-42af-b135-a17b5bf566c1",
   "metadata": {
    "tags": []
   },
   "outputs": [],
   "source": [
    "# Null Hypothesis (H0): Older people are less tech-savvy and prefer shopping in-store compared to younger people.\n",
    "# Alternative Hypothesis (H1): There is no significant difference in tech-savviness or preference for in-store shopping between older and younger people.\n",
    "\n",
    "# Assumptions - To test this Hypothesis, we will compare Techsaviness in terms of NumWebVisitsMonth & Instore purchases through NumStorePurchases"
   ]
  },
  {
   "cell_type": "code",
   "execution_count": 175,
   "id": "e5e802fa-5b37-4ea4-b5f5-c977ef003ef1",
   "metadata": {
    "tags": []
   },
   "outputs": [],
   "source": [
    "# Generating Number of Web visit per month for people above and below age of 50 \n",
    "\n",
    "tech_savvy_old = mkt_data[mkt_data['Age'] >= 50]['NumWebVisitsMonth']\n",
    "tech_savvy_young = mkt_data[mkt_data['Age'] < 50]['NumWebVisitsMonth']"
   ]
  },
  {
   "cell_type": "code",
   "execution_count": 178,
   "id": "8233251f-15c7-4690-8b02-7f5292ce2aef",
   "metadata": {
    "tags": []
   },
   "outputs": [
    {
     "name": "stdout",
     "output_type": "stream",
     "text": [
      "Mean of Web visit of People older than 50:  5.2154582763337896 Mean of Web visit of People younger than 50:  5.506426735218509\n"
     ]
    }
   ],
   "source": [
    "print(\"Mean of Web visit of People older than 50: \",tech_savvy_old.mean(), \"Mean of Web visit of People younger than 50: \", tech_savvy_young.mean()  ) "
   ]
  },
  {
   "cell_type": "code",
   "execution_count": 179,
   "id": "e3b64156-0f97-4356-acf6-a009d984ea74",
   "metadata": {
    "tags": []
   },
   "outputs": [
    {
     "data": {
      "text/plain": [
       "TtestResult(statistic=-2.7057728400601433, pvalue=0.006866260370517737, df=2238.0)"
      ]
     },
     "execution_count": 179,
     "metadata": {},
     "output_type": "execute_result"
    }
   ],
   "source": [
    "# Performing a independent t-test on these values\n",
    "\n",
    "ttest_ind(tech_savvy_old, tech_savvy_young)"
   ]
  },
  {
   "cell_type": "code",
   "execution_count": 180,
   "id": "1ef9a6c1-eb51-4df2-9747-97d54979c86d",
   "metadata": {
    "tags": []
   },
   "outputs": [],
   "source": [
    "# Generating Number of Instore purchasaes for people above and below age of 50 \n",
    "\n",
    "instore_old = mkt_data[mkt_data['Age'] >= 50]['NumStorePurchases']\n",
    "instore_young = mkt_data[mkt_data['Age'] < 50]['NumStorePurchases']"
   ]
  },
  {
   "cell_type": "code",
   "execution_count": 181,
   "id": "943d6d16-1ac3-4c8e-a38f-3c4a8920ddd8",
   "metadata": {
    "tags": []
   },
   "outputs": [
    {
     "data": {
      "text/plain": [
       "TtestResult(statistic=4.493210537290091, pvalue=7.373005629031434e-06, df=2238.0)"
      ]
     },
     "execution_count": 181,
     "metadata": {},
     "output_type": "execute_result"
    }
   ],
   "source": [
    "# Performing a independent t-test on these values\n",
    "\n",
    "ttest_ind(instore_old, instore_young)"
   ]
  },
  {
   "cell_type": "code",
   "execution_count": 182,
   "id": "2f238567-901e-4f1a-81e1-4d6dca03942c",
   "metadata": {
    "tags": []
   },
   "outputs": [],
   "source": [
    "# Observation\n",
    "# As p-value for both independent t-test are significantly small, we can safely reject H0 and establish \n",
    "# There is no significant difference in tech-savviness or preference for in-store shopping between older and younger people."
   ]
  },
  {
   "cell_type": "markdown",
   "id": "4682a67e-3333-4bcb-9b7e-cf7b6a726829",
   "metadata": {},
   "source": [
    "### 2. Customers with kids probably have less time to visit a store and would prefer to shop online."
   ]
  },
  {
   "cell_type": "code",
   "execution_count": 183,
   "id": "d178cf33-7f70-471f-acb6-fdc6260ec129",
   "metadata": {
    "tags": []
   },
   "outputs": [],
   "source": [
    "# Null Hypothesis (H0): Customer with kids prefer shop online.\n",
    "# Alternative Hypothesis (H1): Customer with kids not necessarily shop online.\n",
    "\n",
    "# Assumption - As there is no criteria of timings spend in shopping given in data, we will decide the data based on NumWebPurchases & NumStorePurchases for the different customers.\n",
    "# Refined Hypothesis statement\n",
    "\n",
    "# H0: Customer with Kids -> mean(NumWebPurchases) > mean(NumStorePurchases)\n",
    "# H1: Customer with Kids -> mean(NumWebPurchases) < mean(NumStorePurchases)\n",
    "\n",
    "# Here we will go with left tailed independent t-test\n",
    " \n"
   ]
  },
  {
   "cell_type": "code",
   "execution_count": 184,
   "id": "bd92337e-5927-4813-8861-5726617a94c3",
   "metadata": {
    "tags": []
   },
   "outputs": [],
   "source": [
    "# Calculating values\n",
    "\n",
    "num_web = mkt_data[mkt_data['Kidhome'] >= 1]['NumWebPurchases']\n",
    "numstore = mkt_data[mkt_data['Kidhome'] >= 1]['NumStorePurchases']"
   ]
  },
  {
   "cell_type": "code",
   "execution_count": 185,
   "id": "41a579f2-ed6e-4a78-b9ea-554406d08d06",
   "metadata": {
    "tags": []
   },
   "outputs": [
    {
     "data": {
      "text/plain": [
       "LeveneResult(statistic=8.990907664252665, pvalue=0.0027486300890385605)"
      ]
     },
     "execution_count": 185,
     "metadata": {},
     "output_type": "execute_result"
    }
   ],
   "source": [
    "# Performing a levene test to identify variance equality assumption\n",
    "\n",
    "st.levene(mkt_data.NumWebPurchases[mkt_data.Kidhome >=1],mkt_data.NumStorePurchases[mkt_data.Kidhome >=1] )"
   ]
  },
  {
   "cell_type": "code",
   "execution_count": 186,
   "id": "65e71944-0952-4e83-8ecc-7504b31f1015",
   "metadata": {
    "tags": []
   },
   "outputs": [],
   "source": [
    "# observation - As p value from levene test is significantly low, we can go with normal ttest"
   ]
  },
  {
   "cell_type": "code",
   "execution_count": 187,
   "id": "30d46b82-c3b3-467c-b7e0-8ec7f01b6a9d",
   "metadata": {
    "tags": []
   },
   "outputs": [
    {
     "data": {
      "text/plain": [
       "TtestResult(statistic=-9.489656858342025, pvalue=6.70298947771397e-21, df=1892.0)"
      ]
     },
     "execution_count": 187,
     "metadata": {},
     "output_type": "execute_result"
    }
   ],
   "source": [
    "ttest_ind(num_web,numstore)"
   ]
  },
  {
   "cell_type": "code",
   "execution_count": 188,
   "id": "f9682280-801f-4da0-816f-1e887fd08bb7",
   "metadata": {
    "tags": []
   },
   "outputs": [],
   "source": [
    "# As p-value is significantly less we can safely reject Null Hypothesis"
   ]
  },
  {
   "cell_type": "markdown",
   "id": "922b2e84-0c80-401d-a478-4810ac907327",
   "metadata": {},
   "source": [
    "### 3. Other distribution channels may cannibalize sales at the store."
   ]
  },
  {
   "cell_type": "code",
   "execution_count": 189,
   "id": "db51cc74-cac7-40a9-b4bb-bfec64655efb",
   "metadata": {},
   "outputs": [],
   "source": [
    "# Assumptions:\n",
    "# Here we will be creating additional column OtherPurchase which is combination of NumWebPurchases & NumCatalogPurchases\n",
    "\n",
    "# H0: mean(NumStorePurchases) < mean(OtherPurchase)\n",
    "# H1: mean(NumStorePurchases) >= mean(OtherPurchase)\n",
    "\n",
    "# As the columns are independent we will be performing Left tailed independent ttest"
   ]
  },
  {
   "cell_type": "markdown",
   "id": "d66b6772-a9d6-4ae6-8b3e-321d9ec2ee5b",
   "metadata": {},
   "source": [
    "### '# Generating additional column'"
   ]
  },
  {
   "cell_type": "code",
   "execution_count": 190,
   "id": "54784f02-430e-4953-988e-9179b2ffff1c",
   "metadata": {
    "tags": []
   },
   "outputs": [],
   "source": [
    "mkt_data.insert(loc = 15, column = 'OtherPurchase', value = mkt_data['NumWebPurchases'] + mkt_data['NumCatalogPurchases'])"
   ]
  },
  {
   "cell_type": "code",
   "execution_count": 191,
   "id": "b3231ecc-c97c-4212-a3ac-569767ce5213",
   "metadata": {
    "tags": []
   },
   "outputs": [],
   "source": [
    "# Performing a levene test"
   ]
  },
  {
   "cell_type": "code",
   "execution_count": 192,
   "id": "2cc2a1e4-9092-452c-b88b-74cde6ec224f",
   "metadata": {
    "tags": []
   },
   "outputs": [
    {
     "data": {
      "text/plain": [
       "LeveneResult(statistic=356.2462570524069, pvalue=1.609212754936288e-76)"
      ]
     },
     "execution_count": 192,
     "metadata": {},
     "output_type": "execute_result"
    }
   ],
   "source": [
    "st.levene(mkt_data['NumStorePurchases'], mkt_data['OtherPurchase'])"
   ]
  },
  {
   "cell_type": "code",
   "execution_count": 193,
   "id": "8c56f932-99ef-4987-842a-86b538749717",
   "metadata": {
    "tags": []
   },
   "outputs": [],
   "source": [
    "# Observation - As levene test generating a very less p value we will go with normal t-test"
   ]
  },
  {
   "cell_type": "code",
   "execution_count": 194,
   "id": "aa2b4f3f-271c-4947-a790-a15303652e5e",
   "metadata": {
    "tags": []
   },
   "outputs": [
    {
     "data": {
      "text/plain": [
       "TtestResult(statistic=-7.884334964023309, pvalue=1.971324447658957e-15, df=4478.0)"
      ]
     },
     "execution_count": 194,
     "metadata": {},
     "output_type": "execute_result"
    }
   ],
   "source": [
    "ttest_ind(mkt_data['NumStorePurchases'], mkt_data['OtherPurchase'], alternative='less')"
   ]
  },
  {
   "cell_type": "code",
   "execution_count": 195,
   "id": "b5cf36dd-968c-4c1b-a2c1-7e63eb57c2c5",
   "metadata": {
    "tags": []
   },
   "outputs": [],
   "source": [
    "# As p-value is significantly less we can safely reject null Hypothesis"
   ]
  },
  {
   "cell_type": "markdown",
   "id": "1fd9cb61-a031-4da8-8bf4-e9ef22e8b779",
   "metadata": {
    "tags": []
   },
   "source": [
    "### 4. Does the US fare significantly better than the rest of the world in terms of total purchases?"
   ]
  },
  {
   "cell_type": "code",
   "execution_count": 196,
   "id": "b305b3d8-9893-428f-a2fe-5a939c967595",
   "metadata": {},
   "outputs": [],
   "source": [
    "\n",
    "# H0: mean(Total Spending by US) > mean(Total spending by Other world)\n",
    "# H1: mean(Total Spending by US) < mean(Total spending by Other world)\n",
    "\n",
    "# Assumption: Here we will consider Column TExpenditure generated in previous exercises\n",
    "\n",
    "# variables for testing\n",
    "total_spending_us = mkt_data['TExpenditure'][mkt_data.Country == 'US']\n",
    "total_spending_other = mkt_data['TExpenditure'][mkt_data.Country != 'US']\n",
    "\n"
   ]
  },
  {
   "cell_type": "code",
   "execution_count": 197,
   "id": "94ecb3f5-9056-468d-b150-2ade2d8183f3",
   "metadata": {
    "tags": []
   },
   "outputs": [],
   "source": [
    "# Levene Test to verify if variances  equal or not\n",
    "\n",
    "levene_test_spending = st.levene(total_spending_us, total_spending_other)\n"
   ]
  },
  {
   "cell_type": "code",
   "execution_count": 198,
   "id": "0c54edbf-37e6-43d7-9d19-670d03f480dd",
   "metadata": {
    "tags": []
   },
   "outputs": [
    {
     "data": {
      "text/plain": [
       "LeveneResult(statistic=1.4726805701696453, pvalue=0.22505129239167973)"
      ]
     },
     "execution_count": 198,
     "metadata": {},
     "output_type": "execute_result"
    }
   ],
   "source": [
    "levene_test_spending"
   ]
  },
  {
   "cell_type": "code",
   "execution_count": 199,
   "id": "56eafd5d-0c87-49cf-8f14-bce97bc5587b",
   "metadata": {
    "tags": []
   },
   "outputs": [],
   "source": [
    "# Perform independent t-test \n",
    "t_stat_spending, p_value_spending = st.ttest_ind(total_spending_us, total_spending_other)\n"
   ]
  },
  {
   "cell_type": "code",
   "execution_count": 200,
   "id": "c7aa0311-560c-45e9-b722-f4a0bef7e1ce",
   "metadata": {
    "tags": []
   },
   "outputs": [
    {
     "name": "stdout",
     "output_type": "stream",
     "text": [
      "T-statistic: 0.301595620367374\n",
      "P-value: 0.7629883675772997\n"
     ]
    }
   ],
   "source": [
    "# Output results\n",
    "print(f\"T-statistic: {t_stat_spending}\")\n",
    "print(f\"P-value: {p_value_spending}\")\n"
   ]
  },
  {
   "cell_type": "code",
   "execution_count": 201,
   "id": "aa758400-0730-421a-b0a1-5435bba24ff8",
   "metadata": {
    "tags": []
   },
   "outputs": [
    {
     "name": "stdout",
     "output_type": "stream",
     "text": [
      "Fail to reject the null hypothesis: There may not be a significant difference in total spending between the US and the rest of the world.\n"
     ]
    }
   ],
   "source": [
    "# Interpret the results\n",
    "\n",
    "if p_value_spending < 0.05:\n",
    "    print(\"Reject the null hypothesis: There is a significant difference in total spending between the US and the rest of the world.\")\n",
    "else:\n",
    "    print(\"Fail to reject the null hypothesis: There may not be a significant difference in total spending between the US and the rest of the world.\")\n"
   ]
  },
  {
   "cell_type": "markdown",
   "id": "bb0a5ea2-95b4-45ca-92a8-79afb4469384",
   "metadata": {},
   "source": [
    "## (G) VISUALIZATION"
   ]
  },
  {
   "cell_type": "markdown",
   "id": "404b2472-93fb-4579-914b-20119c5cfca9",
   "metadata": {},
   "source": [
    "### 1. Which products are performing the best, and which are performing the least in terms of revenue?"
   ]
  },
  {
   "cell_type": "code",
   "execution_count": 31,
   "id": "f5a0fcc2-9a5e-458c-b2fe-91822ddb4338",
   "metadata": {
    "tags": []
   },
   "outputs": [],
   "source": [
    "# List of product names\n",
    "products = ['Wines', 'Fruits', 'Meat Products', 'Fish Products', 'Sweet Products', 'Gold Prods']\n"
   ]
  },
  {
   "cell_type": "code",
   "execution_count": 202,
   "id": "1b4019fc-30a0-4ca3-a533-21000532add8",
   "metadata": {
    "tags": []
   },
   "outputs": [],
   "source": [
    "# List of revenues generated by them\n",
    "\n",
    "revenues = [\n",
    "    mkt_data['MntWines'].sum(),\n",
    "    mkt_data['MntFruits'].sum(),\n",
    "    mkt_data['MntMeatProducts'].sum(),\n",
    "    mkt_data['MntFishProducts'].sum(),\n",
    "    mkt_data['MntSweetProducts'].sum(),\n",
    "    mkt_data['MntGoldProds'].sum()\n",
    "]\n"
   ]
  },
  {
   "cell_type": "code",
   "execution_count": 204,
   "id": "4e7cc340-2a7f-49e1-be7b-fc280b56ae52",
   "metadata": {
    "tags": []
   },
   "outputs": [
    {
     "data": {
      "image/png": "[encoded data removed]",
      "text/plain": [
       "<Figure size 1000x600 with 1 Axes>"
      ]
     },
     "metadata": {},
     "output_type": "display_data"
    }
   ],
   "source": [
    "# Create a horizontal bar plot for visualization\n",
    "plt.figure(figsize=(10, 6))  # Adjust figure size if needed\n",
    "plt.bar(products, revenues, color='skyblue')\n",
    "plt.ylabel('Revenue')\n",
    "plt.title('Revenue by Product')\n",
    "plt.xticks(rotation=45)  # Rotate x-axis labels for better readability if needed\n",
    "plt.show()\n"
   ]
  },
  {
   "cell_type": "code",
   "execution_count": null,
   "id": "31165baa-fffd-4249-a6a5-2faddf37a42b",
   "metadata": {},
   "outputs": [],
   "source": [
    "# Observation -  Wines sale was max and Fruits and Sweet product sale was minimum in all the product."
   ]
  },
  {
   "cell_type": "markdown",
   "id": "769d6f02-7161-40cb-9d50-9f1361e28847",
   "metadata": {},
   "source": [
    "### 2. Is there any pattern between the age of customers and the last campaign acceptance rate?"
   ]
  },
  {
   "cell_type": "code",
   "execution_count": 205,
   "id": "e442debb-1f8a-41a7-ae1b-5b83225d3352",
   "metadata": {
    "tags": []
   },
   "outputs": [
    {
     "data": {
      "image/png": "[encoded data removed]",
      "text/plain": [
       "<Figure size 1000x600 with 1 Axes>"
      ]
     },
     "metadata": {},
     "output_type": "display_data"
    }
   ],
   "source": [
    "# Take variables as last campaign acceptance and Age\n",
    "\n",
    "plt.figure(figsize=(10, 6))\n",
    "sns.scatterplot(x=mkt_data.Age, y='AcceptedCmp5', data=mkt_data, hue=mkt_data.AcceptedCmp5, palette='viridis')\n",
    "plt.title('Scatter Plot of Age vs. AcceptedCmp5')\n",
    "plt.xlabel('Age')\n",
    "plt.ylabel('AcceptedCmp5')\n",
    "plt.show()\n"
   ]
  },
  {
   "cell_type": "code",
   "execution_count": 206,
   "id": "dc090677-8af7-49c0-9e78-416ee55bd68a",
   "metadata": {
    "tags": []
   },
   "outputs": [],
   "source": [
    "# Observation:-  30-60 age people rating is highest who accepted the last campaign."
   ]
  },
  {
   "cell_type": "markdown",
   "id": "ef56b7b8-951d-4a48-8849-f3b6554b0ed3",
   "metadata": {},
   "source": [
    "### 3. Which Country has the greatest number of customers who accepted the last campaign?"
   ]
  },
  {
   "cell_type": "code",
   "execution_count": 207,
   "id": "9c32ba4d-b25c-42aa-848b-7c3755726431",
   "metadata": {
    "tags": []
   },
   "outputs": [
    {
     "data": {
      "image/png": "[encoded data removed]",
      "text/plain": [
       "<Figure size 1000x600 with 1 Axes>"
      ]
     },
     "metadata": {},
     "output_type": "display_data"
    }
   ],
   "source": [
    "campaign_acceptance_by_country = mkt_data[mkt_data['AcceptedCmp5'] == 1].groupby('Country')['AcceptedCmp5'].count()\n",
    "\n",
    "# Sort countries by the count of acceptances in descending order\n",
    "sorted_countries = campaign_acceptance_by_country.sort_values(ascending=False)\n",
    "\n",
    "# Plotting the bar plot\n",
    "plt.figure(figsize=(10, 6))\n",
    "sorted_countries.plot(kind='bar', color='skyblue')\n",
    "plt.xlabel('Country')\n",
    "plt.ylabel('Number of Customers Accepted')\n",
    "plt.title('Number of Customers Who Accepted the Last Campaign by Country')\n",
    "plt.xticks(rotation=45)  # Rotate x-axis labels for better readability if needed\n",
    "plt.show()\n",
    "\n",
    "# Observation:- SP is the greatest number of customers who accepted the last campaign\n"
   ]
  },
  {
   "cell_type": "markdown",
   "id": "9353b065-be61-40e1-ba2b-89e06d3272a4",
   "metadata": {},
   "source": [
    "### 4. Do you see any pattern in the no. of children at home and total spend?"
   ]
  },
  {
   "cell_type": "code",
   "execution_count": 209,
   "id": "a8519982-2963-41fe-81eb-fb50ed4585db",
   "metadata": {
    "tags": []
   },
   "outputs": [
    {
     "data": {
      "image/png": "[encoded data removed]",
      "text/plain": [
       "<Figure size 800x600 with 1 Axes>"
      ]
     },
     "metadata": {},
     "output_type": "display_data"
    }
   ],
   "source": [
    "# Scatter plot\n",
    "plt.figure(figsize=(8, 6))\n",
    "plt.scatter(mkt_data['Kidhome'], mkt_data['TExpenditure'], color='skyblue', alpha=0.5)\n",
    "plt.xlabel('Count of Children at Home')\n",
    "plt.ylabel('Total Expenditure')\n",
    "plt.title('Count of Children at Home vs. Total Expenditure')\n",
    "plt.grid(True)\n",
    "plt.show()\n",
    "\n",
    "\n"
   ]
  },
  {
   "cell_type": "code",
   "execution_count": 211,
   "id": "39239c8a-fe3c-419e-971e-32d33eddb75e",
   "metadata": {
    "tags": []
   },
   "outputs": [],
   "source": [
    "# Observation:- Which People do not have kids spend much and total spending decreased as per kid count increased."
   ]
  },
  {
   "cell_type": "markdown",
   "id": "097f1eb7-6856-4ceb-a241-54481fb1dc3c",
   "metadata": {},
   "source": [
    "### 5. Education background of the customers who complained in the last 2 years."
   ]
  },
  {
   "cell_type": "code",
   "execution_count": 212,
   "id": "bc7c7ac5-2530-4cb1-a835-f36694263f69",
   "metadata": {
    "tags": []
   },
   "outputs": [
    {
     "data": {
      "image/png": "[encoded data removed]",
      "text/plain": [
       "<Figure size 1000x600 with 1 Axes>"
      ]
     },
     "metadata": {},
     "output_type": "display_data"
    }
   ],
   "source": [
    "# Filter customers who complained in the last 2 years\n",
    "com_cust = mkt_data[mkt_data['Complain'] != 0]['Education']\n",
    "\n",
    "# Count the values\n",
    "education_counts = com_cust.value_counts()\n",
    "\n",
    "# Plotting the bar plot\n",
    "plt.figure(figsize=(10, 6))\n",
    "education_counts.plot(kind='bar', color='skyblue')\n",
    "plt.xlabel('Education Level')\n",
    "plt.ylabel('Number of Customers')\n",
    "plt.title('Education Background of Customers Who Complained')\n",
    "plt.xticks(rotation=45)  # Rotate x-axis labels for better readability if needed\n",
    "plt.grid(axis='y')\n",
    "plt.tight_layout()\n",
    "plt.show()\n",
    "\n",
    "\n"
   ]
  },
  {
   "cell_type": "code",
   "execution_count": 213,
   "id": "59f0ade2-158d-4727-9ce0-d93cc3ba26f9",
   "metadata": {
    "tags": []
   },
   "outputs": [],
   "source": [
    "# Observation:- Graduation degree person raised maximum complaints, as basic one have not created any, so they are filtered out"
   ]
  },
  {
   "cell_type": "markdown",
   "id": "0a39ba11-1a99-45ec-b71b-8cc84498bb85",
   "metadata": {
    "tags": []
   },
   "source": [
    "# END OF PROJECT"
   ]
  }
 ],
 "metadata": {
  "kernelspec": {
   "display_name": "Python 3 (ipykernel)",
   "language": "python",
   "name": "python3"
  },
  "language_info": {
   "codemirror_mode": {
    "name": "ipython",
    "version": 3
   },
   "file_extension": ".py",
   "mimetype": "text/x-python",
   "name": "python",
   "nbconvert_exporter": "python",
   "pygments_lexer": "ipython3",
   "version": "3.11.5"
  }
 },
 "nbformat": 4,
 "nbformat_minor": 5
}
